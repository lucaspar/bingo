{
 "cells": [
  {
   "cell_type": "markdown",
   "metadata": {},
   "source": [
    "# Visualize the data from CSV"
   ]
  },
  {
   "cell_type": "code",
   "execution_count": 269,
   "metadata": {},
   "outputs": [],
   "source": [
    "import pandas as pd\n",
    "import warnings\n",
    "warnings.filterwarnings('ignore')\n",
    "import matplotlib.pyplot as plt\n",
    "plt.rcParams.update({'font.size': 18})\n",
    "import numpy as np"
   ]
  },
  {
   "cell_type": "markdown",
   "metadata": {},
   "source": [
    "# X= # of pods/instances, Y=speedup"
   ]
  },
  {
   "cell_type": "code",
   "execution_count": 224,
   "metadata": {},
   "outputs": [
    {
     "data": {
      "text/html": [
       "<div>\n",
       "<style scoped>\n",
       "    .dataframe tbody tr th:only-of-type {\n",
       "        vertical-align: middle;\n",
       "    }\n",
       "\n",
       "    .dataframe tbody tr th {\n",
       "        vertical-align: top;\n",
       "    }\n",
       "\n",
       "    .dataframe thead th {\n",
       "        text-align: right;\n",
       "    }\n",
       "</style>\n",
       "<table border=\"1\" class=\"dataframe\">\n",
       "  <thead>\n",
       "    <tr style=\"text-align: right;\">\n",
       "      <th></th>\n",
       "      <th>Time</th>\n",
       "      <th>Indexed documents pod</th>\n",
       "      <th>Indexer pods</th>\n",
       "      <th>Rate</th>\n",
       "    </tr>\n",
       "  </thead>\n",
       "  <tbody>\n",
       "    <tr>\n",
       "      <th>0</th>\n",
       "      <td>2019-12-10T08:30:20-05:00</td>\n",
       "      <td>NaN</td>\n",
       "      <td>NaN</td>\n",
       "      <td>NaN</td>\n",
       "    </tr>\n",
       "    <tr>\n",
       "      <th>1</th>\n",
       "      <td>2019-12-10T08:30:35-05:00</td>\n",
       "      <td>NaN</td>\n",
       "      <td>NaN</td>\n",
       "      <td>NaN</td>\n",
       "    </tr>\n",
       "    <tr>\n",
       "      <th>2</th>\n",
       "      <td>2019-12-10T08:30:50-05:00</td>\n",
       "      <td>NaN</td>\n",
       "      <td>NaN</td>\n",
       "      <td>NaN</td>\n",
       "    </tr>\n",
       "  </tbody>\n",
       "</table>\n",
       "</div>"
      ],
      "text/plain": [
       "                        Time Indexed documents pod  Indexer pods  Rate\n",
       "0  2019-12-10T08:30:20-05:00                   NaN           NaN   NaN\n",
       "1  2019-12-10T08:30:35-05:00                   NaN           NaN   NaN\n",
       "2  2019-12-10T08:30:50-05:00                   NaN           NaN   NaN"
      ]
     },
     "execution_count": 224,
     "metadata": {},
     "output_type": "execute_result"
    }
   ],
   "source": [
    "pd_fig_1 = pd.read_csv(\"./sample_charts/figure_1.csv\", sep=';')\n",
    "pd_fig_1.head(3)"
   ]
  },
  {
   "cell_type": "code",
   "execution_count": 225,
   "metadata": {},
   "outputs": [
    {
     "data": {
      "text/html": [
       "<div>\n",
       "<style scoped>\n",
       "    .dataframe tbody tr th:only-of-type {\n",
       "        vertical-align: middle;\n",
       "    }\n",
       "\n",
       "    .dataframe tbody tr th {\n",
       "        vertical-align: top;\n",
       "    }\n",
       "\n",
       "    .dataframe thead th {\n",
       "        text-align: right;\n",
       "    }\n",
       "</style>\n",
       "<table border=\"1\" class=\"dataframe\">\n",
       "  <thead>\n",
       "    <tr style=\"text-align: right;\">\n",
       "      <th></th>\n",
       "      <th>Time</th>\n",
       "      <th>Indexed documents pod</th>\n",
       "      <th>Indexer pods</th>\n",
       "      <th>Rate</th>\n",
       "    </tr>\n",
       "  </thead>\n",
       "  <tbody>\n",
       "    <tr>\n",
       "      <th>21</th>\n",
       "      <td>2019-12-10T08:35:35-05:00</td>\n",
       "      <td>31</td>\n",
       "      <td>2.0</td>\n",
       "      <td>NaN</td>\n",
       "    </tr>\n",
       "    <tr>\n",
       "      <th>22</th>\n",
       "      <td>2019-12-10T08:35:50-05:00</td>\n",
       "      <td>74</td>\n",
       "      <td>2.0</td>\n",
       "      <td>0.0</td>\n",
       "    </tr>\n",
       "    <tr>\n",
       "      <th>24</th>\n",
       "      <td>2019-12-10T08:36:20-05:00</td>\n",
       "      <td>33</td>\n",
       "      <td>2.0</td>\n",
       "      <td>0.0</td>\n",
       "    </tr>\n",
       "  </tbody>\n",
       "</table>\n",
       "</div>"
      ],
      "text/plain": [
       "                         Time Indexed documents pod  Indexer pods  Rate\n",
       "21  2019-12-10T08:35:35-05:00                    31           2.0   NaN\n",
       "22  2019-12-10T08:35:50-05:00                    74           2.0   0.0\n",
       "24  2019-12-10T08:36:20-05:00                    33           2.0   0.0"
      ]
     },
     "execution_count": 225,
     "metadata": {},
     "output_type": "execute_result"
    }
   ],
   "source": [
    "pd_fig1_ind2_1 = pd_fig_1.loc[pd_fig_1['Indexer pods'] == 2]\n",
    "pd_fig1_ind2_1.head(3)"
   ]
  },
  {
   "cell_type": "code",
   "execution_count": 227,
   "metadata": {},
   "outputs": [
    {
     "data": {
      "text/html": [
       "<div>\n",
       "<style scoped>\n",
       "    .dataframe tbody tr th:only-of-type {\n",
       "        vertical-align: middle;\n",
       "    }\n",
       "\n",
       "    .dataframe tbody tr th {\n",
       "        vertical-align: top;\n",
       "    }\n",
       "\n",
       "    .dataframe thead th {\n",
       "        text-align: right;\n",
       "    }\n",
       "</style>\n",
       "<table border=\"1\" class=\"dataframe\">\n",
       "  <thead>\n",
       "    <tr style=\"text-align: right;\">\n",
       "      <th></th>\n",
       "      <th>Time</th>\n",
       "      <th>Indexed documents pod</th>\n",
       "      <th>Indexer pods</th>\n",
       "      <th>Rate</th>\n",
       "    </tr>\n",
       "  </thead>\n",
       "  <tbody>\n",
       "    <tr>\n",
       "      <th>21</th>\n",
       "      <td>2019-12-10T08:35:35-05:00</td>\n",
       "      <td>31</td>\n",
       "      <td>2.0</td>\n",
       "      <td>NaN</td>\n",
       "    </tr>\n",
       "    <tr>\n",
       "      <th>22</th>\n",
       "      <td>2019-12-10T08:35:50-05:00</td>\n",
       "      <td>74</td>\n",
       "      <td>2.0</td>\n",
       "      <td>0.000</td>\n",
       "    </tr>\n",
       "    <tr>\n",
       "      <th>24</th>\n",
       "      <td>2019-12-10T08:36:20-05:00</td>\n",
       "      <td>33</td>\n",
       "      <td>2.0</td>\n",
       "      <td>0.000</td>\n",
       "    </tr>\n",
       "    <tr>\n",
       "      <th>25</th>\n",
       "      <td>2019-12-10T08:36:35-05:00</td>\n",
       "      <td>112</td>\n",
       "      <td>2.0</td>\n",
       "      <td>1.440</td>\n",
       "    </tr>\n",
       "    <tr>\n",
       "      <th>26</th>\n",
       "      <td>2019-12-10T08:36:50-05:00</td>\n",
       "      <td>189</td>\n",
       "      <td>2.0</td>\n",
       "      <td>3.368</td>\n",
       "    </tr>\n",
       "    <tr>\n",
       "      <th>27</th>\n",
       "      <td>2019-12-10T08:37:05-05:00</td>\n",
       "      <td>270</td>\n",
       "      <td>2.0</td>\n",
       "      <td>4.767</td>\n",
       "    </tr>\n",
       "    <tr>\n",
       "      <th>28</th>\n",
       "      <td>2019-12-10T08:37:20-05:00</td>\n",
       "      <td>349</td>\n",
       "      <td>2.0</td>\n",
       "      <td>5.245</td>\n",
       "    </tr>\n",
       "    <tr>\n",
       "      <th>29</th>\n",
       "      <td>2019-12-10T08:37:35-05:00</td>\n",
       "      <td>431</td>\n",
       "      <td>2.0</td>\n",
       "      <td>5.333</td>\n",
       "    </tr>\n",
       "    <tr>\n",
       "      <th>30</th>\n",
       "      <td>2019-12-10T08:37:50-05:00</td>\n",
       "      <td>511</td>\n",
       "      <td>2.0</td>\n",
       "      <td>5.311</td>\n",
       "    </tr>\n",
       "    <tr>\n",
       "      <th>31</th>\n",
       "      <td>2019-12-10T08:38:05-05:00</td>\n",
       "      <td>596</td>\n",
       "      <td>2.0</td>\n",
       "      <td>5.449</td>\n",
       "    </tr>\n",
       "    <tr>\n",
       "      <th>32</th>\n",
       "      <td>2019-12-10T08:38:20-05:00</td>\n",
       "      <td>677</td>\n",
       "      <td>2.0</td>\n",
       "      <td>5.467</td>\n",
       "    </tr>\n",
       "    <tr>\n",
       "      <th>33</th>\n",
       "      <td>2019-12-10T08:38:35-05:00</td>\n",
       "      <td>748</td>\n",
       "      <td>2.0</td>\n",
       "      <td>5.267</td>\n",
       "    </tr>\n",
       "    <tr>\n",
       "      <th>34</th>\n",
       "      <td>2019-12-10T08:38:50-05:00</td>\n",
       "      <td>825</td>\n",
       "      <td>2.0</td>\n",
       "      <td>5.089</td>\n",
       "    </tr>\n",
       "    <tr>\n",
       "      <th>35</th>\n",
       "      <td>2019-12-10T08:39:05-05:00</td>\n",
       "      <td>905</td>\n",
       "      <td>2.0</td>\n",
       "      <td>5.067</td>\n",
       "    </tr>\n",
       "    <tr>\n",
       "      <th>36</th>\n",
       "      <td>2019-12-10T08:39:20-05:00</td>\n",
       "      <td>983</td>\n",
       "      <td>2.0</td>\n",
       "      <td>5.222</td>\n",
       "    </tr>\n",
       "    <tr>\n",
       "      <th>37</th>\n",
       "      <td>2019-12-10T08:39:35-05:00</td>\n",
       "      <td>1070</td>\n",
       "      <td>2.0</td>\n",
       "      <td>5.444</td>\n",
       "    </tr>\n",
       "    <tr>\n",
       "      <th>38</th>\n",
       "      <td>2019-12-10T08:39:50-05:00</td>\n",
       "      <td>1150</td>\n",
       "      <td>2.0</td>\n",
       "      <td>5.444</td>\n",
       "    </tr>\n",
       "    <tr>\n",
       "      <th>39</th>\n",
       "      <td>2019-12-10T08:40:05-05:00</td>\n",
       "      <td>1232</td>\n",
       "      <td>2.0</td>\n",
       "      <td>5.533</td>\n",
       "    </tr>\n",
       "    <tr>\n",
       "      <th>40</th>\n",
       "      <td>2019-12-10T08:40:20-05:00</td>\n",
       "      <td>1305</td>\n",
       "      <td>2.0</td>\n",
       "      <td>5.222</td>\n",
       "    </tr>\n",
       "    <tr>\n",
       "      <th>41</th>\n",
       "      <td>2019-12-10T08:40:35-05:00</td>\n",
       "      <td>1387</td>\n",
       "      <td>2.0</td>\n",
       "      <td>5.267</td>\n",
       "    </tr>\n",
       "    <tr>\n",
       "      <th>42</th>\n",
       "      <td>2019-12-10T08:40:50-05:00</td>\n",
       "      <td>1467</td>\n",
       "      <td>2.0</td>\n",
       "      <td>5.222</td>\n",
       "    </tr>\n",
       "    <tr>\n",
       "      <th>43</th>\n",
       "      <td>2019-12-10T08:41:05-05:00</td>\n",
       "      <td>1550</td>\n",
       "      <td>2.0</td>\n",
       "      <td>5.444</td>\n",
       "    </tr>\n",
       "    <tr>\n",
       "      <th>44</th>\n",
       "      <td>2019-12-10T08:41:20-05:00</td>\n",
       "      <td>1628</td>\n",
       "      <td>2.0</td>\n",
       "      <td>5.356</td>\n",
       "    </tr>\n",
       "    <tr>\n",
       "      <th>45</th>\n",
       "      <td>2019-12-10T08:41:35-05:00</td>\n",
       "      <td>1713</td>\n",
       "      <td>2.0</td>\n",
       "      <td>5.467</td>\n",
       "    </tr>\n",
       "    <tr>\n",
       "      <th>46</th>\n",
       "      <td>2019-12-10T08:41:50-05:00</td>\n",
       "      <td>1787</td>\n",
       "      <td>2.0</td>\n",
       "      <td>5.267</td>\n",
       "    </tr>\n",
       "    <tr>\n",
       "      <th>47</th>\n",
       "      <td>2019-12-10T08:42:05-05:00</td>\n",
       "      <td>1870</td>\n",
       "      <td>2.0</td>\n",
       "      <td>5.378</td>\n",
       "    </tr>\n",
       "    <tr>\n",
       "      <th>48</th>\n",
       "      <td>2019-12-10T08:42:20-05:00</td>\n",
       "      <td>1952</td>\n",
       "      <td>2.0</td>\n",
       "      <td>5.289</td>\n",
       "    </tr>\n",
       "    <tr>\n",
       "      <th>49</th>\n",
       "      <td>2019-12-10T08:42:35-05:00</td>\n",
       "      <td>2032</td>\n",
       "      <td>2.0</td>\n",
       "      <td>5.445</td>\n",
       "    </tr>\n",
       "    <tr>\n",
       "      <th>50</th>\n",
       "      <td>2019-12-10T08:42:50-05:00</td>\n",
       "      <td>2113</td>\n",
       "      <td>2.0</td>\n",
       "      <td>5.382</td>\n",
       "    </tr>\n",
       "    <tr>\n",
       "      <th>51</th>\n",
       "      <td>2019-12-10T08:43:05-05:00</td>\n",
       "      <td>2188</td>\n",
       "      <td>2.0</td>\n",
       "      <td>5.244</td>\n",
       "    </tr>\n",
       "    <tr>\n",
       "      <th>52</th>\n",
       "      <td>2019-12-10T08:43:20-05:00</td>\n",
       "      <td>2261</td>\n",
       "      <td>2.0</td>\n",
       "      <td>5.089</td>\n",
       "    </tr>\n",
       "    <tr>\n",
       "      <th>53</th>\n",
       "      <td>2019-12-10T08:43:35-05:00</td>\n",
       "      <td>2340</td>\n",
       "      <td>2.0</td>\n",
       "      <td>5.044</td>\n",
       "    </tr>\n",
       "    <tr>\n",
       "      <th>54</th>\n",
       "      <td>2019-12-10T08:43:50-05:00</td>\n",
       "      <td>2425</td>\n",
       "      <td>2.0</td>\n",
       "      <td>5.267</td>\n",
       "    </tr>\n",
       "    <tr>\n",
       "      <th>55</th>\n",
       "      <td>2019-12-10T08:44:05-05:00</td>\n",
       "      <td>2510</td>\n",
       "      <td>2.0</td>\n",
       "      <td>5.533</td>\n",
       "    </tr>\n",
       "    <tr>\n",
       "      <th>56</th>\n",
       "      <td>2019-12-10T08:44:20-05:00</td>\n",
       "      <td>2589</td>\n",
       "      <td>2.0</td>\n",
       "      <td>5.533</td>\n",
       "    </tr>\n",
       "    <tr>\n",
       "      <th>57</th>\n",
       "      <td>2019-12-10T08:44:35-05:00</td>\n",
       "      <td>2670</td>\n",
       "      <td>2.0</td>\n",
       "      <td>5.444</td>\n",
       "    </tr>\n",
       "  </tbody>\n",
       "</table>\n",
       "</div>"
      ],
      "text/plain": [
       "                         Time Indexed documents pod  Indexer pods   Rate\n",
       "21  2019-12-10T08:35:35-05:00                    31           2.0    NaN\n",
       "22  2019-12-10T08:35:50-05:00                    74           2.0  0.000\n",
       "24  2019-12-10T08:36:20-05:00                    33           2.0  0.000\n",
       "25  2019-12-10T08:36:35-05:00                   112           2.0  1.440\n",
       "26  2019-12-10T08:36:50-05:00                   189           2.0  3.368\n",
       "27  2019-12-10T08:37:05-05:00                   270           2.0  4.767\n",
       "28  2019-12-10T08:37:20-05:00                   349           2.0  5.245\n",
       "29  2019-12-10T08:37:35-05:00                   431           2.0  5.333\n",
       "30  2019-12-10T08:37:50-05:00                   511           2.0  5.311\n",
       "31  2019-12-10T08:38:05-05:00                   596           2.0  5.449\n",
       "32  2019-12-10T08:38:20-05:00                   677           2.0  5.467\n",
       "33  2019-12-10T08:38:35-05:00                   748           2.0  5.267\n",
       "34  2019-12-10T08:38:50-05:00                   825           2.0  5.089\n",
       "35  2019-12-10T08:39:05-05:00                   905           2.0  5.067\n",
       "36  2019-12-10T08:39:20-05:00                   983           2.0  5.222\n",
       "37  2019-12-10T08:39:35-05:00                  1070           2.0  5.444\n",
       "38  2019-12-10T08:39:50-05:00                  1150           2.0  5.444\n",
       "39  2019-12-10T08:40:05-05:00                  1232           2.0  5.533\n",
       "40  2019-12-10T08:40:20-05:00                  1305           2.0  5.222\n",
       "41  2019-12-10T08:40:35-05:00                  1387           2.0  5.267\n",
       "42  2019-12-10T08:40:50-05:00                  1467           2.0  5.222\n",
       "43  2019-12-10T08:41:05-05:00                  1550           2.0  5.444\n",
       "44  2019-12-10T08:41:20-05:00                  1628           2.0  5.356\n",
       "45  2019-12-10T08:41:35-05:00                  1713           2.0  5.467\n",
       "46  2019-12-10T08:41:50-05:00                  1787           2.0  5.267\n",
       "47  2019-12-10T08:42:05-05:00                  1870           2.0  5.378\n",
       "48  2019-12-10T08:42:20-05:00                  1952           2.0  5.289\n",
       "49  2019-12-10T08:42:35-05:00                  2032           2.0  5.445\n",
       "50  2019-12-10T08:42:50-05:00                  2113           2.0  5.382\n",
       "51  2019-12-10T08:43:05-05:00                  2188           2.0  5.244\n",
       "52  2019-12-10T08:43:20-05:00                  2261           2.0  5.089\n",
       "53  2019-12-10T08:43:35-05:00                  2340           2.0  5.044\n",
       "54  2019-12-10T08:43:50-05:00                  2425           2.0  5.267\n",
       "55  2019-12-10T08:44:05-05:00                  2510           2.0  5.533\n",
       "56  2019-12-10T08:44:20-05:00                  2589           2.0  5.533\n",
       "57  2019-12-10T08:44:35-05:00                  2670           2.0  5.444"
      ]
     },
     "execution_count": 227,
     "metadata": {},
     "output_type": "execute_result"
    }
   ],
   "source": [
    "pd_fig1_ind2_1['Indexed documents pod'] = pd_fig1_ind2_1['Indexed documents pod'].str.replace(',', '')\n",
    "pd_fig1_ind2_1"
   ]
  },
  {
   "cell_type": "code",
   "execution_count": 233,
   "metadata": {},
   "outputs": [],
   "source": [
    "pd_fig1_ind2_1['Indexed documents pod'] = pd_fig1_ind2_1['Indexed documents pod'].astype(int)"
   ]
  },
  {
   "cell_type": "code",
   "execution_count": 234,
   "metadata": {},
   "outputs": [],
   "source": [
    "total_doc = pd_fig1_ind2_1['Indexed documents pod'].sum()"
   ]
  },
  {
   "cell_type": "code",
   "execution_count": 235,
   "metadata": {},
   "outputs": [
    {
     "name": "stdout",
     "output_type": "stream",
     "text": [
      "45973\n"
     ]
    }
   ],
   "source": [
    "print(total_doc)"
   ]
  },
  {
   "cell_type": "code",
   "execution_count": 239,
   "metadata": {},
   "outputs": [],
   "source": [
    "# 1. Change Time to datetime\n",
    "pd_fig1_ind2_1['time_stamp'] = pd.to_datetime(pd_fig1_ind2_1['Time'])\n",
    "# 2. Substract the first time and make it into relative time\n",
    "pd_fig1_ind2_1['time_stamp'] = pd_fig1_ind2_1['time_stamp'].sub(pd_fig1_ind2_1['time_stamp'][21], axis=0)\n",
    "# 3. Add another column for time in seconds\n",
    "pd_fig1_ind2_1['time_stamp_sec'] = pd.Series(np.random.randn(len(pd_fig1_ind2_1['Time'])), index = pd_fig1_ind2_1.index)\n",
    "# 4. Change the relative time into seconds\n",
    "pd_fig1_ind2_1['time_stamp_sec'] = pd_fig1_ind2_1['time_stamp'].dt.total_seconds()"
   ]
  },
  {
   "cell_type": "code",
   "execution_count": 241,
   "metadata": {},
   "outputs": [
    {
     "data": {
      "text/html": [
       "<div>\n",
       "<style scoped>\n",
       "    .dataframe tbody tr th:only-of-type {\n",
       "        vertical-align: middle;\n",
       "    }\n",
       "\n",
       "    .dataframe tbody tr th {\n",
       "        vertical-align: top;\n",
       "    }\n",
       "\n",
       "    .dataframe thead th {\n",
       "        text-align: right;\n",
       "    }\n",
       "</style>\n",
       "<table border=\"1\" class=\"dataframe\">\n",
       "  <thead>\n",
       "    <tr style=\"text-align: right;\">\n",
       "      <th></th>\n",
       "      <th>Time</th>\n",
       "      <th>Indexed documents pod</th>\n",
       "      <th>Indexer pods</th>\n",
       "      <th>Rate</th>\n",
       "      <th>time_stamp</th>\n",
       "      <th>time_stamp_sec</th>\n",
       "    </tr>\n",
       "  </thead>\n",
       "  <tbody>\n",
       "    <tr>\n",
       "      <th>53</th>\n",
       "      <td>2019-12-10T08:43:35-05:00</td>\n",
       "      <td>2340</td>\n",
       "      <td>2.0</td>\n",
       "      <td>5.044</td>\n",
       "      <td>00:08:00</td>\n",
       "      <td>480.0</td>\n",
       "    </tr>\n",
       "    <tr>\n",
       "      <th>54</th>\n",
       "      <td>2019-12-10T08:43:50-05:00</td>\n",
       "      <td>2425</td>\n",
       "      <td>2.0</td>\n",
       "      <td>5.267</td>\n",
       "      <td>00:08:15</td>\n",
       "      <td>495.0</td>\n",
       "    </tr>\n",
       "    <tr>\n",
       "      <th>55</th>\n",
       "      <td>2019-12-10T08:44:05-05:00</td>\n",
       "      <td>2510</td>\n",
       "      <td>2.0</td>\n",
       "      <td>5.533</td>\n",
       "      <td>00:08:30</td>\n",
       "      <td>510.0</td>\n",
       "    </tr>\n",
       "    <tr>\n",
       "      <th>56</th>\n",
       "      <td>2019-12-10T08:44:20-05:00</td>\n",
       "      <td>2589</td>\n",
       "      <td>2.0</td>\n",
       "      <td>5.533</td>\n",
       "      <td>00:08:45</td>\n",
       "      <td>525.0</td>\n",
       "    </tr>\n",
       "    <tr>\n",
       "      <th>57</th>\n",
       "      <td>2019-12-10T08:44:35-05:00</td>\n",
       "      <td>2670</td>\n",
       "      <td>2.0</td>\n",
       "      <td>5.444</td>\n",
       "      <td>00:09:00</td>\n",
       "      <td>540.0</td>\n",
       "    </tr>\n",
       "  </tbody>\n",
       "</table>\n",
       "</div>"
      ],
      "text/plain": [
       "                         Time  Indexed documents pod  Indexer pods   Rate  \\\n",
       "53  2019-12-10T08:43:35-05:00                   2340           2.0  5.044   \n",
       "54  2019-12-10T08:43:50-05:00                   2425           2.0  5.267   \n",
       "55  2019-12-10T08:44:05-05:00                   2510           2.0  5.533   \n",
       "56  2019-12-10T08:44:20-05:00                   2589           2.0  5.533   \n",
       "57  2019-12-10T08:44:35-05:00                   2670           2.0  5.444   \n",
       "\n",
       "   time_stamp  time_stamp_sec  \n",
       "53   00:08:00           480.0  \n",
       "54   00:08:15           495.0  \n",
       "55   00:08:30           510.0  \n",
       "56   00:08:45           525.0  \n",
       "57   00:09:00           540.0  "
      ]
     },
     "execution_count": 241,
     "metadata": {},
     "output_type": "execute_result"
    }
   ],
   "source": [
    "pd_fig1_ind2_1.tail(5)"
   ]
  },
  {
   "cell_type": "code",
   "execution_count": 243,
   "metadata": {},
   "outputs": [
    {
     "name": "stdout",
     "output_type": "stream",
     "text": [
      "85.13518518518518\n"
     ]
    }
   ],
   "source": [
    "rate = total_doc/pd_fig1_ind2_1['time_stamp_sec'][57]\n",
    "print(rate)"
   ]
  },
  {
   "cell_type": "code",
   "execution_count": 257,
   "metadata": {},
   "outputs": [],
   "source": [
    "data_point_1 = [2.0, rate]"
   ]
  },
  {
   "cell_type": "code",
   "execution_count": 245,
   "metadata": {},
   "outputs": [
    {
     "name": "stdout",
     "output_type": "stream",
     "text": [
      "197221\n"
     ]
    }
   ],
   "source": [
    "# 1. Get the rows with required # of pods\n",
    "pd_2 = pd_fig_1.loc[pd_fig_1['Indexer pods'] == 4]\n",
    "# 2. Remove the comma in the number\n",
    "pd_2['Indexed documents pod'] = pd_2['Indexed documents pod'].str.replace(',', '')\n",
    "# 3. Number typer str to int\n",
    "pd_2['Indexed documents pod'] = pd_2['Indexed documents pod'].astype(int)\n",
    "# 4. Sum totoal number of files\n",
    "total_doc_2 = pd_2['Indexed documents pod'].sum()\n",
    "\n",
    "print(total_doc_2)"
   ]
  },
  {
   "cell_type": "code",
   "execution_count": 247,
   "metadata": {},
   "outputs": [
    {
     "data": {
      "text/html": [
       "<div>\n",
       "<style scoped>\n",
       "    .dataframe tbody tr th:only-of-type {\n",
       "        vertical-align: middle;\n",
       "    }\n",
       "\n",
       "    .dataframe tbody tr th {\n",
       "        vertical-align: top;\n",
       "    }\n",
       "\n",
       "    .dataframe thead th {\n",
       "        text-align: right;\n",
       "    }\n",
       "</style>\n",
       "<table border=\"1\" class=\"dataframe\">\n",
       "  <thead>\n",
       "    <tr style=\"text-align: right;\">\n",
       "      <th></th>\n",
       "      <th>Time</th>\n",
       "      <th>Indexed documents pod</th>\n",
       "      <th>Indexer pods</th>\n",
       "      <th>Rate</th>\n",
       "      <th>time_stamp</th>\n",
       "    </tr>\n",
       "  </thead>\n",
       "  <tbody>\n",
       "    <tr>\n",
       "      <th>58</th>\n",
       "      <td>2019-12-10T08:44:50-05:00</td>\n",
       "      <td>2756</td>\n",
       "      <td>4.0</td>\n",
       "      <td>5.022</td>\n",
       "      <td>2019-12-10 08:44:50-05:00</td>\n",
       "    </tr>\n",
       "    <tr>\n",
       "      <th>59</th>\n",
       "      <td>2019-12-10T08:45:05-05:00</td>\n",
       "      <td>2857</td>\n",
       "      <td>4.0</td>\n",
       "      <td>4.764</td>\n",
       "      <td>2019-12-10 08:45:05-05:00</td>\n",
       "    </tr>\n",
       "    <tr>\n",
       "      <th>60</th>\n",
       "      <td>2019-12-10T08:45:20-05:00</td>\n",
       "      <td>2967</td>\n",
       "      <td>4.0</td>\n",
       "      <td>5.423</td>\n",
       "      <td>2019-12-10 08:45:20-05:00</td>\n",
       "    </tr>\n",
       "  </tbody>\n",
       "</table>\n",
       "</div>"
      ],
      "text/plain": [
       "                         Time  Indexed documents pod  Indexer pods   Rate  \\\n",
       "58  2019-12-10T08:44:50-05:00                   2756           4.0  5.022   \n",
       "59  2019-12-10T08:45:05-05:00                   2857           4.0  4.764   \n",
       "60  2019-12-10T08:45:20-05:00                   2967           4.0  5.423   \n",
       "\n",
       "                  time_stamp  \n",
       "58 2019-12-10 08:44:50-05:00  \n",
       "59 2019-12-10 08:45:05-05:00  \n",
       "60 2019-12-10 08:45:20-05:00  "
      ]
     },
     "execution_count": 247,
     "metadata": {},
     "output_type": "execute_result"
    }
   ],
   "source": [
    "pd_2.head(3)"
   ]
  },
  {
   "cell_type": "code",
   "execution_count": 248,
   "metadata": {},
   "outputs": [
    {
     "data": {
      "text/html": [
       "<div>\n",
       "<style scoped>\n",
       "    .dataframe tbody tr th:only-of-type {\n",
       "        vertical-align: middle;\n",
       "    }\n",
       "\n",
       "    .dataframe tbody tr th {\n",
       "        vertical-align: top;\n",
       "    }\n",
       "\n",
       "    .dataframe thead th {\n",
       "        text-align: right;\n",
       "    }\n",
       "</style>\n",
       "<table border=\"1\" class=\"dataframe\">\n",
       "  <thead>\n",
       "    <tr style=\"text-align: right;\">\n",
       "      <th></th>\n",
       "      <th>Time</th>\n",
       "      <th>Indexed documents pod</th>\n",
       "      <th>Indexer pods</th>\n",
       "      <th>Rate</th>\n",
       "      <th>time_stamp</th>\n",
       "      <th>time_stamp_sec</th>\n",
       "    </tr>\n",
       "  </thead>\n",
       "  <tbody>\n",
       "    <tr>\n",
       "      <th>96</th>\n",
       "      <td>2019-12-10T08:54:20-05:00</td>\n",
       "      <td>6640</td>\n",
       "      <td>4.0</td>\n",
       "      <td>6.844</td>\n",
       "      <td>00:09:30</td>\n",
       "      <td>570.0</td>\n",
       "    </tr>\n",
       "    <tr>\n",
       "      <th>97</th>\n",
       "      <td>2019-12-10T08:54:35-05:00</td>\n",
       "      <td>6752</td>\n",
       "      <td>4.0</td>\n",
       "      <td>7.156</td>\n",
       "      <td>00:09:45</td>\n",
       "      <td>585.0</td>\n",
       "    </tr>\n",
       "    <tr>\n",
       "      <th>98</th>\n",
       "      <td>2019-12-10T08:54:50-05:00</td>\n",
       "      <td>6835</td>\n",
       "      <td>4.0</td>\n",
       "      <td>6.667</td>\n",
       "      <td>00:10:00</td>\n",
       "      <td>600.0</td>\n",
       "    </tr>\n",
       "  </tbody>\n",
       "</table>\n",
       "</div>"
      ],
      "text/plain": [
       "                         Time  Indexed documents pod  Indexer pods   Rate  \\\n",
       "96  2019-12-10T08:54:20-05:00                   6640           4.0  6.844   \n",
       "97  2019-12-10T08:54:35-05:00                   6752           4.0  7.156   \n",
       "98  2019-12-10T08:54:50-05:00                   6835           4.0  6.667   \n",
       "\n",
       "   time_stamp  time_stamp_sec  \n",
       "96   00:09:30           570.0  \n",
       "97   00:09:45           585.0  \n",
       "98   00:10:00           600.0  "
      ]
     },
     "execution_count": 248,
     "metadata": {},
     "output_type": "execute_result"
    }
   ],
   "source": [
    "# 1. Change Time to datetime\n",
    "pd_2['time_stamp'] = pd.to_datetime(pd_2['Time'])\n",
    "# 2. Substract the first time and make it into relative time\n",
    "pd_2['time_stamp'] = pd_2['time_stamp'].sub(pd_2['time_stamp'][58], axis=0)\n",
    "# 3. Add another column for time in seconds\n",
    "pd_2['time_stamp_sec'] = pd.Series(np.random.randn(len(pd_2['Time'])), index = pd_2.index)\n",
    "# 4. Change the relative time into seconds\n",
    "pd_2['time_stamp_sec'] = pd_2['time_stamp'].dt.total_seconds()\n",
    "\n",
    "pd_2.tail(3)"
   ]
  },
  {
   "cell_type": "code",
   "execution_count": 249,
   "metadata": {},
   "outputs": [
    {
     "data": {
      "text/html": [
       "<div>\n",
       "<style scoped>\n",
       "    .dataframe tbody tr th:only-of-type {\n",
       "        vertical-align: middle;\n",
       "    }\n",
       "\n",
       "    .dataframe tbody tr th {\n",
       "        vertical-align: top;\n",
       "    }\n",
       "\n",
       "    .dataframe thead th {\n",
       "        text-align: right;\n",
       "    }\n",
       "</style>\n",
       "<table border=\"1\" class=\"dataframe\">\n",
       "  <thead>\n",
       "    <tr style=\"text-align: right;\">\n",
       "      <th></th>\n",
       "      <th>Time</th>\n",
       "      <th>Indexed documents pod</th>\n",
       "      <th>Indexer pods</th>\n",
       "      <th>Rate</th>\n",
       "      <th>time_stamp</th>\n",
       "      <th>time_stamp_sec</th>\n",
       "    </tr>\n",
       "  </thead>\n",
       "  <tbody>\n",
       "    <tr>\n",
       "      <th>58</th>\n",
       "      <td>2019-12-10T08:44:50-05:00</td>\n",
       "      <td>2756</td>\n",
       "      <td>4.0</td>\n",
       "      <td>5.022</td>\n",
       "      <td>0 days</td>\n",
       "      <td>0.0</td>\n",
       "    </tr>\n",
       "  </tbody>\n",
       "</table>\n",
       "</div>"
      ],
      "text/plain": [
       "                         Time  Indexed documents pod  Indexer pods   Rate  \\\n",
       "58  2019-12-10T08:44:50-05:00                   2756           4.0  5.022   \n",
       "\n",
       "   time_stamp  time_stamp_sec  \n",
       "58     0 days             0.0  "
      ]
     },
     "execution_count": 249,
     "metadata": {},
     "output_type": "execute_result"
    }
   ],
   "source": [
    "pd_2.head(1)"
   ]
  },
  {
   "cell_type": "code",
   "execution_count": 251,
   "metadata": {},
   "outputs": [
    {
     "name": "stdout",
     "output_type": "stream",
     "text": [
      "328.70166666666665\n"
     ]
    }
   ],
   "source": [
    "rate_2 = total_doc_2/600.0\n",
    "print(rate_2)\n",
    "data_point_2 = [4.0, rate_2]"
   ]
  },
  {
   "cell_type": "code",
   "execution_count": 252,
   "metadata": {},
   "outputs": [
    {
     "name": "stdout",
     "output_type": "stream",
     "text": [
      "172699\n"
     ]
    }
   ],
   "source": [
    "# 1. Get the rows with required # of pods\n",
    "pd_3 = pd_fig_1.loc[pd_fig_1['Indexer pods'] == 8]\n",
    "# 2. Remove the comma in the number\n",
    "pd_3['Indexed documents pod'] = pd_3['Indexed documents pod'].str.replace(',', '')\n",
    "# 3. Number typer str to int\n",
    "pd_3['Indexed documents pod'] = pd_3['Indexed documents pod'].astype(int)\n",
    "# 4. Sum totoal number of files\n",
    "total_doc_3 = pd_3['Indexed documents pod'].sum()\n",
    "\n",
    "print(total_doc_3)"
   ]
  },
  {
   "cell_type": "code",
   "execution_count": 253,
   "metadata": {},
   "outputs": [
    {
     "data": {
      "text/html": [
       "<div>\n",
       "<style scoped>\n",
       "    .dataframe tbody tr th:only-of-type {\n",
       "        vertical-align: middle;\n",
       "    }\n",
       "\n",
       "    .dataframe tbody tr th {\n",
       "        vertical-align: top;\n",
       "    }\n",
       "\n",
       "    .dataframe thead th {\n",
       "        text-align: right;\n",
       "    }\n",
       "</style>\n",
       "<table border=\"1\" class=\"dataframe\">\n",
       "  <thead>\n",
       "    <tr style=\"text-align: right;\">\n",
       "      <th></th>\n",
       "      <th>Time</th>\n",
       "      <th>Indexed documents pod</th>\n",
       "      <th>Indexer pods</th>\n",
       "      <th>Rate</th>\n",
       "    </tr>\n",
       "  </thead>\n",
       "  <tbody>\n",
       "    <tr>\n",
       "      <th>100</th>\n",
       "      <td>2019-12-10T08:55:20-05:00</td>\n",
       "      <td>7041</td>\n",
       "      <td>8.0</td>\n",
       "      <td>5.405</td>\n",
       "    </tr>\n",
       "    <tr>\n",
       "      <th>101</th>\n",
       "      <td>2019-12-10T08:55:35-05:00</td>\n",
       "      <td>7160</td>\n",
       "      <td>8.0</td>\n",
       "      <td>5.827</td>\n",
       "    </tr>\n",
       "    <tr>\n",
       "      <th>102</th>\n",
       "      <td>2019-12-10T08:55:50-05:00</td>\n",
       "      <td>7277</td>\n",
       "      <td>8.0</td>\n",
       "      <td>6.415</td>\n",
       "    </tr>\n",
       "  </tbody>\n",
       "</table>\n",
       "</div>"
      ],
      "text/plain": [
       "                          Time  Indexed documents pod  Indexer pods   Rate\n",
       "100  2019-12-10T08:55:20-05:00                   7041           8.0  5.405\n",
       "101  2019-12-10T08:55:35-05:00                   7160           8.0  5.827\n",
       "102  2019-12-10T08:55:50-05:00                   7277           8.0  6.415"
      ]
     },
     "execution_count": 253,
     "metadata": {},
     "output_type": "execute_result"
    }
   ],
   "source": [
    "pd_3.head(3)"
   ]
  },
  {
   "cell_type": "code",
   "execution_count": 254,
   "metadata": {},
   "outputs": [
    {
     "data": {
      "text/html": [
       "<div>\n",
       "<style scoped>\n",
       "    .dataframe tbody tr th:only-of-type {\n",
       "        vertical-align: middle;\n",
       "    }\n",
       "\n",
       "    .dataframe tbody tr th {\n",
       "        vertical-align: top;\n",
       "    }\n",
       "\n",
       "    .dataframe thead th {\n",
       "        text-align: right;\n",
       "    }\n",
       "</style>\n",
       "<table border=\"1\" class=\"dataframe\">\n",
       "  <thead>\n",
       "    <tr style=\"text-align: right;\">\n",
       "      <th></th>\n",
       "      <th>Time</th>\n",
       "      <th>Indexed documents pod</th>\n",
       "      <th>Indexer pods</th>\n",
       "      <th>Rate</th>\n",
       "      <th>time_stamp</th>\n",
       "      <th>time_stamp_sec</th>\n",
       "    </tr>\n",
       "  </thead>\n",
       "  <tbody>\n",
       "    <tr>\n",
       "      <th>118</th>\n",
       "      <td>2019-12-10T08:59:50-05:00</td>\n",
       "      <td>9167</td>\n",
       "      <td>8.0</td>\n",
       "      <td>7.467</td>\n",
       "      <td>00:04:30</td>\n",
       "      <td>270.0</td>\n",
       "    </tr>\n",
       "    <tr>\n",
       "      <th>119</th>\n",
       "      <td>2019-12-10T09:00:05-05:00</td>\n",
       "      <td>9281</td>\n",
       "      <td>8.0</td>\n",
       "      <td>7.533</td>\n",
       "      <td>00:04:45</td>\n",
       "      <td>285.0</td>\n",
       "    </tr>\n",
       "    <tr>\n",
       "      <th>120</th>\n",
       "      <td>2019-12-10T09:00:20-05:00</td>\n",
       "      <td>9392</td>\n",
       "      <td>8.0</td>\n",
       "      <td>7.244</td>\n",
       "      <td>00:05:00</td>\n",
       "      <td>300.0</td>\n",
       "    </tr>\n",
       "  </tbody>\n",
       "</table>\n",
       "</div>"
      ],
      "text/plain": [
       "                          Time  Indexed documents pod  Indexer pods   Rate  \\\n",
       "118  2019-12-10T08:59:50-05:00                   9167           8.0  7.467   \n",
       "119  2019-12-10T09:00:05-05:00                   9281           8.0  7.533   \n",
       "120  2019-12-10T09:00:20-05:00                   9392           8.0  7.244   \n",
       "\n",
       "    time_stamp  time_stamp_sec  \n",
       "118   00:04:30           270.0  \n",
       "119   00:04:45           285.0  \n",
       "120   00:05:00           300.0  "
      ]
     },
     "execution_count": 254,
     "metadata": {},
     "output_type": "execute_result"
    }
   ],
   "source": [
    "# 1. Change Time to datetime\n",
    "pd_3['time_stamp'] = pd.to_datetime(pd_3['Time'])\n",
    "# 2. Substract the first time and make it into relative time\n",
    "pd_3['time_stamp'] = pd_3['time_stamp'].sub(pd_3['time_stamp'][100], axis=0)\n",
    "# 3. Add another column for time in seconds\n",
    "pd_3['time_stamp_sec'] = pd.Series(np.random.randn(len(pd_3['Time'])), index = pd_3.index)\n",
    "# 4. Change the relative time into seconds\n",
    "pd_3['time_stamp_sec'] = pd_3['time_stamp'].dt.total_seconds()\n",
    "\n",
    "pd_3.tail(3)"
   ]
  },
  {
   "cell_type": "code",
   "execution_count": 255,
   "metadata": {},
   "outputs": [
    {
     "name": "stdout",
     "output_type": "stream",
     "text": [
      "575.6633333333333\n"
     ]
    }
   ],
   "source": [
    "rate_3 = total_doc_3/300.0\n",
    "print(rate_3)\n",
    "data_point_3 = [8.0, rate_3]"
   ]
  },
  {
   "cell_type": "code",
   "execution_count": 260,
   "metadata": {},
   "outputs": [],
   "source": [
    "x = [data_point_1[0], data_point_2[0], data_point_3[0]]\n",
    "y = [data_point_1[1], data_point_2[1], data_point_3[1]]"
   ]
  },
  {
   "cell_type": "code",
   "execution_count": 278,
   "metadata": {},
   "outputs": [
    {
     "data": {
      "text/plain": [
       "Text(0, 0.5, 'Speedup')"
      ]
     },
     "execution_count": 278,
     "metadata": {},
     "output_type": "execute_result"
    },
    {
     "data": {
      "image/png": "[encoded data removed]",
      "text/plain": [
       "<Figure size 576x432 with 1 Axes>"
      ]
     },
     "metadata": {
      "needs_background": "light"
     },
     "output_type": "display_data"
    }
   ],
   "source": [
    "fig = plt.figure(figsize=(8,6))\n",
    "plt.plot(x, y, '-gD', lw=3)\n",
    "# fig.suptitle('Speedup with # of pods increasing', fontsize=22)\n",
    "plt.xlabel('Number of Pods', fontsize=18)\n",
    "plt.ylabel('Speedup', fontsize=18)"
   ]
  },
  {
   "cell_type": "code",
   "execution_count": null,
   "metadata": {},
   "outputs": [],
   "source": []
  },
  {
   "cell_type": "code",
   "execution_count": 264,
   "metadata": {},
   "outputs": [
    {
     "data": {
      "image/png": "[encoded data removed]",
      "text/plain": [
       "<Figure size 432x288 with 1 Axes>"
      ]
     },
     "metadata": {
      "needs_background": "light"
     },
     "output_type": "display_data"
    }
   ],
   "source": [
    "plt.plot(x, y, '-gD')\n",
    "plt.show()"
   ]
  },
  {
   "cell_type": "code",
   "execution_count": null,
   "metadata": {},
   "outputs": [],
   "source": []
  },
  {
   "cell_type": "code",
   "execution_count": null,
   "metadata": {},
   "outputs": [],
   "source": []
  },
  {
   "cell_type": "markdown",
   "metadata": {},
   "source": [
    "# cpu_by_container"
   ]
  },
  {
   "cell_type": "code",
   "execution_count": 181,
   "metadata": {},
   "outputs": [
    {
     "data": {
      "text/html": [
       "<div>\n",
       "<style scoped>\n",
       "    .dataframe tbody tr th:only-of-type {\n",
       "        vertical-align: middle;\n",
       "    }\n",
       "\n",
       "    .dataframe tbody tr th {\n",
       "        vertical-align: top;\n",
       "    }\n",
       "\n",
       "    .dataframe thead th {\n",
       "        text-align: right;\n",
       "    }\n",
       "</style>\n",
       "<table border=\"1\" class=\"dataframe\">\n",
       "  <thead>\n",
       "    <tr style=\"text-align: right;\">\n",
       "      <th></th>\n",
       "      <th>Time</th>\n",
       "      <th>crawler-pod-6785cb55f9-bmqzj</th>\n",
       "      <th>crawler-pod-6785cb55f9-z9x6v</th>\n",
       "      <th>domain-balancer-pod</th>\n",
       "      <th>indexer-pod-7bdb4b5f86-bpr2x</th>\n",
       "      <th>indexer-pod-7bdb4b5f86-f9k8d</th>\n",
       "      <th>indexer-pod-7bdb4b5f86-h8rj4</th>\n",
       "      <th>indexer-pod-7bdb4b5f86-nnpwg</th>\n",
       "      <th>urlmap-pod</th>\n",
       "    </tr>\n",
       "  </thead>\n",
       "  <tbody>\n",
       "    <tr>\n",
       "      <th>0</th>\n",
       "      <td>2019-12-08T21:08:00-05:00</td>\n",
       "      <td>NaN</td>\n",
       "      <td>NaN</td>\n",
       "      <td>NaN</td>\n",
       "      <td>NaN</td>\n",
       "      <td>NaN</td>\n",
       "      <td>NaN</td>\n",
       "      <td>NaN</td>\n",
       "      <td>NaN</td>\n",
       "    </tr>\n",
       "    <tr>\n",
       "      <th>1</th>\n",
       "      <td>2019-12-08T21:08:30-05:00</td>\n",
       "      <td>NaN</td>\n",
       "      <td>NaN</td>\n",
       "      <td>NaN</td>\n",
       "      <td>NaN</td>\n",
       "      <td>NaN</td>\n",
       "      <td>NaN</td>\n",
       "      <td>NaN</td>\n",
       "      <td>NaN</td>\n",
       "    </tr>\n",
       "    <tr>\n",
       "      <th>2</th>\n",
       "      <td>2019-12-08T21:09:00-05:00</td>\n",
       "      <td>NaN</td>\n",
       "      <td>NaN</td>\n",
       "      <td>NaN</td>\n",
       "      <td>NaN</td>\n",
       "      <td>NaN</td>\n",
       "      <td>NaN</td>\n",
       "      <td>NaN</td>\n",
       "      <td>NaN</td>\n",
       "    </tr>\n",
       "  </tbody>\n",
       "</table>\n",
       "</div>"
      ],
      "text/plain": [
       "                        Time  crawler-pod-6785cb55f9-bmqzj  \\\n",
       "0  2019-12-08T21:08:00-05:00                           NaN   \n",
       "1  2019-12-08T21:08:30-05:00                           NaN   \n",
       "2  2019-12-08T21:09:00-05:00                           NaN   \n",
       "\n",
       "   crawler-pod-6785cb55f9-z9x6v  domain-balancer-pod  \\\n",
       "0                           NaN                  NaN   \n",
       "1                           NaN                  NaN   \n",
       "2                           NaN                  NaN   \n",
       "\n",
       "   indexer-pod-7bdb4b5f86-bpr2x  indexer-pod-7bdb4b5f86-f9k8d  \\\n",
       "0                           NaN                           NaN   \n",
       "1                           NaN                           NaN   \n",
       "2                           NaN                           NaN   \n",
       "\n",
       "   indexer-pod-7bdb4b5f86-h8rj4  indexer-pod-7bdb4b5f86-nnpwg  urlmap-pod  \n",
       "0                           NaN                           NaN         NaN  \n",
       "1                           NaN                           NaN         NaN  \n",
       "2                           NaN                           NaN         NaN  "
      ]
     },
     "execution_count": 181,
     "metadata": {},
     "output_type": "execute_result"
    }
   ],
   "source": [
    "pd_raw_cpu = pd.read_csv(\"./sample_charts/cpu_by_container.csv\", sep=';')\n",
    "pd_raw_cpu.head(3)"
   ]
  },
  {
   "cell_type": "code",
   "execution_count": 183,
   "metadata": {},
   "outputs": [],
   "source": [
    "# 1. Change Time to datetime\n",
    "pd_raw_cpu['time_stamp'] = pd.to_datetime(pd_raw_cpu['Time'])\n",
    "# 2. Substract the first time and make it into relative time\n",
    "pd_raw_cpu['time_stamp'] = pd_raw_cpu['time_stamp'].sub(pd_raw_cpu['time_stamp'][0], axis=0)\n",
    "# 3. Add another column for time in seconds\n",
    "pd_raw_cpu['time_stamp_sec'] = pd.Series(np.random.randn(len(pd_raw_cpu['Time'])), index = pd_raw_cpu.index)\n",
    "# 4. Change the relative time into seconds\n",
    "pd_raw_cpu['time_stamp_sec'] = pd_raw_cpu['time_stamp'].dt.total_seconds()\n",
    "# 5. Drop unnecessary columns\n",
    "pd_cpu_plt = pd_raw_cpu.drop(columns=['Time', 'time_stamp'])\n",
    "# 6. Reset the index to time_stamp_sec\n",
    "pd_cpu_plt.set_index('time_stamp_sec', inplace = True)"
   ]
  },
  {
   "cell_type": "code",
   "execution_count": 184,
   "metadata": {},
   "outputs": [
    {
     "data": {
      "text/html": [
       "<div>\n",
       "<style scoped>\n",
       "    .dataframe tbody tr th:only-of-type {\n",
       "        vertical-align: middle;\n",
       "    }\n",
       "\n",
       "    .dataframe tbody tr th {\n",
       "        vertical-align: top;\n",
       "    }\n",
       "\n",
       "    .dataframe thead th {\n",
       "        text-align: right;\n",
       "    }\n",
       "</style>\n",
       "<table border=\"1\" class=\"dataframe\">\n",
       "  <thead>\n",
       "    <tr style=\"text-align: right;\">\n",
       "      <th></th>\n",
       "      <th>crawler-pod-6785cb55f9-bmqzj</th>\n",
       "      <th>crawler-pod-6785cb55f9-z9x6v</th>\n",
       "      <th>domain-balancer-pod</th>\n",
       "      <th>indexer-pod-7bdb4b5f86-bpr2x</th>\n",
       "      <th>indexer-pod-7bdb4b5f86-f9k8d</th>\n",
       "      <th>indexer-pod-7bdb4b5f86-h8rj4</th>\n",
       "      <th>indexer-pod-7bdb4b5f86-nnpwg</th>\n",
       "      <th>urlmap-pod</th>\n",
       "    </tr>\n",
       "    <tr>\n",
       "      <th>time_stamp_sec</th>\n",
       "      <th></th>\n",
       "      <th></th>\n",
       "      <th></th>\n",
       "      <th></th>\n",
       "      <th></th>\n",
       "      <th></th>\n",
       "      <th></th>\n",
       "      <th></th>\n",
       "    </tr>\n",
       "  </thead>\n",
       "  <tbody>\n",
       "    <tr>\n",
       "      <th>0.0</th>\n",
       "      <td>NaN</td>\n",
       "      <td>NaN</td>\n",
       "      <td>NaN</td>\n",
       "      <td>NaN</td>\n",
       "      <td>NaN</td>\n",
       "      <td>NaN</td>\n",
       "      <td>NaN</td>\n",
       "      <td>NaN</td>\n",
       "    </tr>\n",
       "    <tr>\n",
       "      <th>30.0</th>\n",
       "      <td>NaN</td>\n",
       "      <td>NaN</td>\n",
       "      <td>NaN</td>\n",
       "      <td>NaN</td>\n",
       "      <td>NaN</td>\n",
       "      <td>NaN</td>\n",
       "      <td>NaN</td>\n",
       "      <td>NaN</td>\n",
       "    </tr>\n",
       "    <tr>\n",
       "      <th>60.0</th>\n",
       "      <td>NaN</td>\n",
       "      <td>NaN</td>\n",
       "      <td>NaN</td>\n",
       "      <td>NaN</td>\n",
       "      <td>NaN</td>\n",
       "      <td>NaN</td>\n",
       "      <td>NaN</td>\n",
       "      <td>NaN</td>\n",
       "    </tr>\n",
       "  </tbody>\n",
       "</table>\n",
       "</div>"
      ],
      "text/plain": [
       "                crawler-pod-6785cb55f9-bmqzj  crawler-pod-6785cb55f9-z9x6v  \\\n",
       "time_stamp_sec                                                               \n",
       "0.0                                      NaN                           NaN   \n",
       "30.0                                     NaN                           NaN   \n",
       "60.0                                     NaN                           NaN   \n",
       "\n",
       "                domain-balancer-pod  indexer-pod-7bdb4b5f86-bpr2x  \\\n",
       "time_stamp_sec                                                      \n",
       "0.0                             NaN                           NaN   \n",
       "30.0                            NaN                           NaN   \n",
       "60.0                            NaN                           NaN   \n",
       "\n",
       "                indexer-pod-7bdb4b5f86-f9k8d  indexer-pod-7bdb4b5f86-h8rj4  \\\n",
       "time_stamp_sec                                                               \n",
       "0.0                                      NaN                           NaN   \n",
       "30.0                                     NaN                           NaN   \n",
       "60.0                                     NaN                           NaN   \n",
       "\n",
       "                indexer-pod-7bdb4b5f86-nnpwg  urlmap-pod  \n",
       "time_stamp_sec                                            \n",
       "0.0                                      NaN         NaN  \n",
       "30.0                                     NaN         NaN  \n",
       "60.0                                     NaN         NaN  "
      ]
     },
     "execution_count": 184,
     "metadata": {},
     "output_type": "execute_result"
    }
   ],
   "source": [
    "pd_cpu_plt.head(3)"
   ]
  },
  {
   "cell_type": "code",
   "execution_count": 194,
   "metadata": {},
   "outputs": [
    {
     "data": {
      "image/png": "[encoded data removed]",
      "text/plain": [
       "<Figure size 1296x432 with 1 Axes>"
      ]
     },
     "metadata": {
      "needs_background": "light"
     },
     "output_type": "display_data"
    }
   ],
   "source": [
    "# Plot\n",
    "pd_cpu_plt.plot(figsize=(18,6), title = 'CPU Usage By Container', fontsize=18, lw=3)\n",
    "plt.show()"
   ]
  },
  {
   "cell_type": "markdown",
   "metadata": {},
   "source": [
    "# Memory by node"
   ]
  },
  {
   "cell_type": "code",
   "execution_count": 195,
   "metadata": {},
   "outputs": [
    {
     "data": {
      "text/html": [
       "<div>\n",
       "<style scoped>\n",
       "    .dataframe tbody tr th:only-of-type {\n",
       "        vertical-align: middle;\n",
       "    }\n",
       "\n",
       "    .dataframe tbody tr th {\n",
       "        vertical-align: top;\n",
       "    }\n",
       "\n",
       "    .dataframe thead th {\n",
       "        text-align: right;\n",
       "    }\n",
       "</style>\n",
       "<table border=\"1\" class=\"dataframe\">\n",
       "  <thead>\n",
       "    <tr style=\"text-align: right;\">\n",
       "      <th></th>\n",
       "      <th>Time</th>\n",
       "      <th>192.168.99.100 Available</th>\n",
       "      <th>192.168.99.100 Free</th>\n",
       "      <th>192.168.99.100 Total</th>\n",
       "    </tr>\n",
       "  </thead>\n",
       "  <tbody>\n",
       "    <tr>\n",
       "      <th>0</th>\n",
       "      <td>2019-12-08T21:08:00-05:00</td>\n",
       "      <td>NaN</td>\n",
       "      <td>NaN</td>\n",
       "      <td>NaN</td>\n",
       "    </tr>\n",
       "    <tr>\n",
       "      <th>1</th>\n",
       "      <td>2019-12-08T21:08:30-05:00</td>\n",
       "      <td>2.499854e+09</td>\n",
       "      <td>1.193382e+09</td>\n",
       "      <td>4.132012e+09</td>\n",
       "    </tr>\n",
       "    <tr>\n",
       "      <th>2</th>\n",
       "      <td>2019-12-08T21:09:00-05:00</td>\n",
       "      <td>2.466570e+09</td>\n",
       "      <td>1.152258e+09</td>\n",
       "      <td>4.132012e+09</td>\n",
       "    </tr>\n",
       "  </tbody>\n",
       "</table>\n",
       "</div>"
      ],
      "text/plain": [
       "                        Time  192.168.99.100 Available  192.168.99.100 Free  \\\n",
       "0  2019-12-08T21:08:00-05:00                       NaN                  NaN   \n",
       "1  2019-12-08T21:08:30-05:00              2.499854e+09         1.193382e+09   \n",
       "2  2019-12-08T21:09:00-05:00              2.466570e+09         1.152258e+09   \n",
       "\n",
       "   192.168.99.100 Total  \n",
       "0                   NaN  \n",
       "1          4.132012e+09  \n",
       "2          4.132012e+09  "
      ]
     },
     "execution_count": 195,
     "metadata": {},
     "output_type": "execute_result"
    }
   ],
   "source": [
    "memory_by_node = pd.read_csv(\"./sample_charts/memory_by_node.csv\", sep=';')\n",
    "memory_by_node.head(3)"
   ]
  },
  {
   "cell_type": "code",
   "execution_count": 199,
   "metadata": {},
   "outputs": [
    {
     "data": {
      "text/html": [
       "<div>\n",
       "<style scoped>\n",
       "    .dataframe tbody tr th:only-of-type {\n",
       "        vertical-align: middle;\n",
       "    }\n",
       "\n",
       "    .dataframe tbody tr th {\n",
       "        vertical-align: top;\n",
       "    }\n",
       "\n",
       "    .dataframe thead th {\n",
       "        text-align: right;\n",
       "    }\n",
       "</style>\n",
       "<table border=\"1\" class=\"dataframe\">\n",
       "  <thead>\n",
       "    <tr style=\"text-align: right;\">\n",
       "      <th></th>\n",
       "      <th>192.168.99.100 Available</th>\n",
       "      <th>192.168.99.100 Free</th>\n",
       "      <th>192.168.99.100 Total</th>\n",
       "    </tr>\n",
       "    <tr>\n",
       "      <th>time_stamp_sec</th>\n",
       "      <th></th>\n",
       "      <th></th>\n",
       "      <th></th>\n",
       "    </tr>\n",
       "  </thead>\n",
       "  <tbody>\n",
       "    <tr>\n",
       "      <th>0.0</th>\n",
       "      <td>NaN</td>\n",
       "      <td>NaN</td>\n",
       "      <td>NaN</td>\n",
       "    </tr>\n",
       "    <tr>\n",
       "      <th>30.0</th>\n",
       "      <td>2.499854e+09</td>\n",
       "      <td>1.193382e+09</td>\n",
       "      <td>4.132012e+09</td>\n",
       "    </tr>\n",
       "    <tr>\n",
       "      <th>60.0</th>\n",
       "      <td>2.466570e+09</td>\n",
       "      <td>1.152258e+09</td>\n",
       "      <td>4.132012e+09</td>\n",
       "    </tr>\n",
       "  </tbody>\n",
       "</table>\n",
       "</div>"
      ],
      "text/plain": [
       "                192.168.99.100 Available  192.168.99.100 Free  \\\n",
       "time_stamp_sec                                                  \n",
       "0.0                                  NaN                  NaN   \n",
       "30.0                        2.499854e+09         1.193382e+09   \n",
       "60.0                        2.466570e+09         1.152258e+09   \n",
       "\n",
       "                192.168.99.100 Total  \n",
       "time_stamp_sec                        \n",
       "0.0                              NaN  \n",
       "30.0                    4.132012e+09  \n",
       "60.0                    4.132012e+09  "
      ]
     },
     "execution_count": 199,
     "metadata": {},
     "output_type": "execute_result"
    }
   ],
   "source": [
    "# 1. Change Time to datetime\n",
    "memory_by_node['time_stamp'] = pd.to_datetime(memory_by_node['Time'])\n",
    "# 2. Substract the first time and make it into relative time\n",
    "memory_by_node['time_stamp'] = memory_by_node['time_stamp'].sub(memory_by_node['time_stamp'][0], axis=0)\n",
    "# 3. Add another column for time in seconds\n",
    "memory_by_node['time_stamp_sec'] = pd.Series(np.random.randn(len(memory_by_node['Time'])), index = memory_by_node.index)\n",
    "# 4. Change the relative time into seconds\n",
    "memory_by_node['time_stamp_sec'] = memory_by_node['time_stamp'].dt.total_seconds()\n",
    "# 5. Drop unnecessary columns\n",
    "memory_by_node_plt = memory_by_node.drop(columns=['Time', 'time_stamp'])\n",
    "# 6. Reset the index to time_stamp_sec\n",
    "memory_by_node_plt.set_index('time_stamp_sec', inplace = True)\n",
    "\n",
    "memory_by_node_plt.head(3)"
   ]
  },
  {
   "cell_type": "code",
   "execution_count": 201,
   "metadata": {},
   "outputs": [
    {
     "data": {
      "image/png": "[encoded data removed]",
      "text/plain": [
       "<Figure size 1296x432 with 1 Axes>"
      ]
     },
     "metadata": {
      "needs_background": "light"
     },
     "output_type": "display_data"
    }
   ],
   "source": [
    "# Plot\n",
    "memory_by_node_plt.plot(figsize=(18,6), title = 'Memory by node', fontsize=18, lw=3)\n",
    "plt.show()"
   ]
  },
  {
   "cell_type": "markdown",
   "metadata": {},
   "source": [
    "# Memory by pod"
   ]
  },
  {
   "cell_type": "code",
   "execution_count": 202,
   "metadata": {},
   "outputs": [
    {
     "data": {
      "text/html": [
       "<div>\n",
       "<style scoped>\n",
       "    .dataframe tbody tr th:only-of-type {\n",
       "        vertical-align: middle;\n",
       "    }\n",
       "\n",
       "    .dataframe tbody tr th {\n",
       "        vertical-align: top;\n",
       "    }\n",
       "\n",
       "    .dataframe thead th {\n",
       "        text-align: right;\n",
       "    }\n",
       "</style>\n",
       "<table border=\"1\" class=\"dataframe\">\n",
       "  <thead>\n",
       "    <tr style=\"text-align: right;\">\n",
       "      <th></th>\n",
       "      <th>Time</th>\n",
       "      <th>crawler-pod-6785cb55f9-bmqzj</th>\n",
       "      <th>crawler-pod-6785cb55f9-z9x6v</th>\n",
       "      <th>domain-balancer-pod</th>\n",
       "      <th>indexer-pod-7bdb4b5f86-bpr2x</th>\n",
       "      <th>indexer-pod-7bdb4b5f86-f9k8d</th>\n",
       "      <th>indexer-pod-7bdb4b5f86-h8rj4</th>\n",
       "      <th>indexer-pod-7bdb4b5f86-nnpwg</th>\n",
       "      <th>urlmap-pod</th>\n",
       "    </tr>\n",
       "  </thead>\n",
       "  <tbody>\n",
       "    <tr>\n",
       "      <th>0</th>\n",
       "      <td>2019-12-08T21:08:00-05:00</td>\n",
       "      <td>NaN</td>\n",
       "      <td>NaN</td>\n",
       "      <td>NaN</td>\n",
       "      <td>NaN</td>\n",
       "      <td>NaN</td>\n",
       "      <td>NaN</td>\n",
       "      <td>NaN</td>\n",
       "      <td>NaN</td>\n",
       "    </tr>\n",
       "    <tr>\n",
       "      <th>1</th>\n",
       "      <td>2019-12-08T21:09:00-05:00</td>\n",
       "      <td>NaN</td>\n",
       "      <td>NaN</td>\n",
       "      <td>NaN</td>\n",
       "      <td>NaN</td>\n",
       "      <td>NaN</td>\n",
       "      <td>NaN</td>\n",
       "      <td>NaN</td>\n",
       "      <td>NaN</td>\n",
       "    </tr>\n",
       "    <tr>\n",
       "      <th>2</th>\n",
       "      <td>2019-12-08T21:10:00-05:00</td>\n",
       "      <td>NaN</td>\n",
       "      <td>NaN</td>\n",
       "      <td>NaN</td>\n",
       "      <td>NaN</td>\n",
       "      <td>NaN</td>\n",
       "      <td>NaN</td>\n",
       "      <td>NaN</td>\n",
       "      <td>NaN</td>\n",
       "    </tr>\n",
       "  </tbody>\n",
       "</table>\n",
       "</div>"
      ],
      "text/plain": [
       "                        Time  crawler-pod-6785cb55f9-bmqzj  \\\n",
       "0  2019-12-08T21:08:00-05:00                           NaN   \n",
       "1  2019-12-08T21:09:00-05:00                           NaN   \n",
       "2  2019-12-08T21:10:00-05:00                           NaN   \n",
       "\n",
       "   crawler-pod-6785cb55f9-z9x6v  domain-balancer-pod  \\\n",
       "0                           NaN                  NaN   \n",
       "1                           NaN                  NaN   \n",
       "2                           NaN                  NaN   \n",
       "\n",
       "   indexer-pod-7bdb4b5f86-bpr2x  indexer-pod-7bdb4b5f86-f9k8d  \\\n",
       "0                           NaN                           NaN   \n",
       "1                           NaN                           NaN   \n",
       "2                           NaN                           NaN   \n",
       "\n",
       "   indexer-pod-7bdb4b5f86-h8rj4  indexer-pod-7bdb4b5f86-nnpwg  urlmap-pod  \n",
       "0                           NaN                           NaN         NaN  \n",
       "1                           NaN                           NaN         NaN  \n",
       "2                           NaN                           NaN         NaN  "
      ]
     },
     "execution_count": 202,
     "metadata": {},
     "output_type": "execute_result"
    }
   ],
   "source": [
    "memory_by_pod = pd.read_csv(\"./sample_charts/memory_by_pod.csv\", sep=';')\n",
    "memory_by_pod.head(3)"
   ]
  },
  {
   "cell_type": "code",
   "execution_count": 204,
   "metadata": {},
   "outputs": [
    {
     "data": {
      "text/html": [
       "<div>\n",
       "<style scoped>\n",
       "    .dataframe tbody tr th:only-of-type {\n",
       "        vertical-align: middle;\n",
       "    }\n",
       "\n",
       "    .dataframe tbody tr th {\n",
       "        vertical-align: top;\n",
       "    }\n",
       "\n",
       "    .dataframe thead th {\n",
       "        text-align: right;\n",
       "    }\n",
       "</style>\n",
       "<table border=\"1\" class=\"dataframe\">\n",
       "  <thead>\n",
       "    <tr style=\"text-align: right;\">\n",
       "      <th></th>\n",
       "      <th>crawler-pod-6785cb55f9-bmqzj</th>\n",
       "      <th>crawler-pod-6785cb55f9-z9x6v</th>\n",
       "      <th>domain-balancer-pod</th>\n",
       "      <th>indexer-pod-7bdb4b5f86-bpr2x</th>\n",
       "      <th>indexer-pod-7bdb4b5f86-f9k8d</th>\n",
       "      <th>indexer-pod-7bdb4b5f86-h8rj4</th>\n",
       "      <th>indexer-pod-7bdb4b5f86-nnpwg</th>\n",
       "      <th>urlmap-pod</th>\n",
       "    </tr>\n",
       "    <tr>\n",
       "      <th>time_stamp_sec</th>\n",
       "      <th></th>\n",
       "      <th></th>\n",
       "      <th></th>\n",
       "      <th></th>\n",
       "      <th></th>\n",
       "      <th></th>\n",
       "      <th></th>\n",
       "      <th></th>\n",
       "    </tr>\n",
       "  </thead>\n",
       "  <tbody>\n",
       "    <tr>\n",
       "      <th>0.0</th>\n",
       "      <td>NaN</td>\n",
       "      <td>NaN</td>\n",
       "      <td>NaN</td>\n",
       "      <td>NaN</td>\n",
       "      <td>NaN</td>\n",
       "      <td>NaN</td>\n",
       "      <td>NaN</td>\n",
       "      <td>NaN</td>\n",
       "    </tr>\n",
       "    <tr>\n",
       "      <th>60.0</th>\n",
       "      <td>NaN</td>\n",
       "      <td>NaN</td>\n",
       "      <td>NaN</td>\n",
       "      <td>NaN</td>\n",
       "      <td>NaN</td>\n",
       "      <td>NaN</td>\n",
       "      <td>NaN</td>\n",
       "      <td>NaN</td>\n",
       "    </tr>\n",
       "    <tr>\n",
       "      <th>120.0</th>\n",
       "      <td>NaN</td>\n",
       "      <td>NaN</td>\n",
       "      <td>NaN</td>\n",
       "      <td>NaN</td>\n",
       "      <td>NaN</td>\n",
       "      <td>NaN</td>\n",
       "      <td>NaN</td>\n",
       "      <td>NaN</td>\n",
       "    </tr>\n",
       "  </tbody>\n",
       "</table>\n",
       "</div>"
      ],
      "text/plain": [
       "                crawler-pod-6785cb55f9-bmqzj  crawler-pod-6785cb55f9-z9x6v  \\\n",
       "time_stamp_sec                                                               \n",
       "0.0                                      NaN                           NaN   \n",
       "60.0                                     NaN                           NaN   \n",
       "120.0                                    NaN                           NaN   \n",
       "\n",
       "                domain-balancer-pod  indexer-pod-7bdb4b5f86-bpr2x  \\\n",
       "time_stamp_sec                                                      \n",
       "0.0                             NaN                           NaN   \n",
       "60.0                            NaN                           NaN   \n",
       "120.0                           NaN                           NaN   \n",
       "\n",
       "                indexer-pod-7bdb4b5f86-f9k8d  indexer-pod-7bdb4b5f86-h8rj4  \\\n",
       "time_stamp_sec                                                               \n",
       "0.0                                      NaN                           NaN   \n",
       "60.0                                     NaN                           NaN   \n",
       "120.0                                    NaN                           NaN   \n",
       "\n",
       "                indexer-pod-7bdb4b5f86-nnpwg  urlmap-pod  \n",
       "time_stamp_sec                                            \n",
       "0.0                                      NaN         NaN  \n",
       "60.0                                     NaN         NaN  \n",
       "120.0                                    NaN         NaN  "
      ]
     },
     "execution_count": 204,
     "metadata": {},
     "output_type": "execute_result"
    }
   ],
   "source": [
    "# 1. Change Time to datetime\n",
    "memory_by_pod['time_stamp'] = pd.to_datetime(memory_by_pod['Time'])\n",
    "# 2. Substract the first time and make it into relative time\n",
    "memory_by_pod['time_stamp'] = memory_by_pod['time_stamp'].sub(memory_by_pod['time_stamp'][0], axis=0)\n",
    "# 3. Add another column for time in seconds\n",
    "memory_by_pod['time_stamp_sec'] = pd.Series(np.random.randn(len(memory_by_pod['Time'])), index = memory_by_pod.index)\n",
    "# 4. Change the relative time into seconds\n",
    "memory_by_pod['time_stamp_sec'] = memory_by_pod['time_stamp'].dt.total_seconds()\n",
    "# 5. Drop unnecessary columns\n",
    "memory_by_pod_plt = memory_by_pod.drop(columns=['Time', 'time_stamp'])\n",
    "# 6. Reset the index to time_stamp_sec\n",
    "memory_by_pod_plt.set_index('time_stamp_sec', inplace = True)\n",
    "\n",
    "memory_by_pod_plt.head(3)"
   ]
  },
  {
   "cell_type": "code",
   "execution_count": 205,
   "metadata": {},
   "outputs": [
    {
     "data": {
      "image/png": "[encoded data removed]",
      "text/plain": [
       "<Figure size 1296x432 with 1 Axes>"
      ]
     },
     "metadata": {
      "needs_background": "light"
     },
     "output_type": "display_data"
    }
   ],
   "source": [
    "memory_by_pod_plt.plot(figsize=(18,6), title = 'Memory by pod', fontsize=18, lw=3)\n",
    "plt.show()"
   ]
  },
  {
   "cell_type": "markdown",
   "metadata": {},
   "source": [
    "# Network by Pod"
   ]
  },
  {
   "cell_type": "code",
   "execution_count": 206,
   "metadata": {},
   "outputs": [
    {
     "data": {
      "text/html": [
       "<div>\n",
       "<style scoped>\n",
       "    .dataframe tbody tr th:only-of-type {\n",
       "        vertical-align: middle;\n",
       "    }\n",
       "\n",
       "    .dataframe tbody tr th {\n",
       "        vertical-align: top;\n",
       "    }\n",
       "\n",
       "    .dataframe thead th {\n",
       "        text-align: right;\n",
       "    }\n",
       "</style>\n",
       "<table border=\"1\" class=\"dataframe\">\n",
       "  <thead>\n",
       "    <tr style=\"text-align: right;\">\n",
       "      <th></th>\n",
       "      <th>Time</th>\n",
       "      <th>crawler-pod-6785cb55f9-bmqzj</th>\n",
       "      <th>crawler-pod-6785cb55f9-z9x6v</th>\n",
       "      <th>domain-balancer-pod</th>\n",
       "      <th>indexer-pod-7bdb4b5f86-bpr2x</th>\n",
       "      <th>indexer-pod-7bdb4b5f86-f9k8d</th>\n",
       "      <th>indexer-pod-7bdb4b5f86-h8rj4</th>\n",
       "      <th>indexer-pod-7bdb4b5f86-nnpwg</th>\n",
       "      <th>urlmap-pod</th>\n",
       "    </tr>\n",
       "  </thead>\n",
       "  <tbody>\n",
       "    <tr>\n",
       "      <th>0</th>\n",
       "      <td>2019-12-08T21:07:30-05:00</td>\n",
       "      <td>NaN</td>\n",
       "      <td>NaN</td>\n",
       "      <td>NaN</td>\n",
       "      <td>NaN</td>\n",
       "      <td>NaN</td>\n",
       "      <td>NaN</td>\n",
       "      <td>NaN</td>\n",
       "      <td>NaN</td>\n",
       "    </tr>\n",
       "    <tr>\n",
       "      <th>1</th>\n",
       "      <td>2019-12-08T21:08:15-05:00</td>\n",
       "      <td>NaN</td>\n",
       "      <td>NaN</td>\n",
       "      <td>NaN</td>\n",
       "      <td>NaN</td>\n",
       "      <td>NaN</td>\n",
       "      <td>NaN</td>\n",
       "      <td>NaN</td>\n",
       "      <td>NaN</td>\n",
       "    </tr>\n",
       "    <tr>\n",
       "      <th>2</th>\n",
       "      <td>2019-12-08T21:09:00-05:00</td>\n",
       "      <td>NaN</td>\n",
       "      <td>NaN</td>\n",
       "      <td>NaN</td>\n",
       "      <td>NaN</td>\n",
       "      <td>NaN</td>\n",
       "      <td>NaN</td>\n",
       "      <td>NaN</td>\n",
       "      <td>NaN</td>\n",
       "    </tr>\n",
       "  </tbody>\n",
       "</table>\n",
       "</div>"
      ],
      "text/plain": [
       "                        Time  crawler-pod-6785cb55f9-bmqzj  \\\n",
       "0  2019-12-08T21:07:30-05:00                           NaN   \n",
       "1  2019-12-08T21:08:15-05:00                           NaN   \n",
       "2  2019-12-08T21:09:00-05:00                           NaN   \n",
       "\n",
       "   crawler-pod-6785cb55f9-z9x6v  domain-balancer-pod  \\\n",
       "0                           NaN                  NaN   \n",
       "1                           NaN                  NaN   \n",
       "2                           NaN                  NaN   \n",
       "\n",
       "   indexer-pod-7bdb4b5f86-bpr2x  indexer-pod-7bdb4b5f86-f9k8d  \\\n",
       "0                           NaN                           NaN   \n",
       "1                           NaN                           NaN   \n",
       "2                           NaN                           NaN   \n",
       "\n",
       "   indexer-pod-7bdb4b5f86-h8rj4  indexer-pod-7bdb4b5f86-nnpwg  urlmap-pod  \n",
       "0                           NaN                           NaN         NaN  \n",
       "1                           NaN                           NaN         NaN  \n",
       "2                           NaN                           NaN         NaN  "
      ]
     },
     "execution_count": 206,
     "metadata": {},
     "output_type": "execute_result"
    }
   ],
   "source": [
    "network_by_pod = pd.read_csv(\"./sample_charts/network_by_pod.csv\", sep=';')\n",
    "network_by_pod.head(3)"
   ]
  },
  {
   "cell_type": "code",
   "execution_count": 207,
   "metadata": {},
   "outputs": [
    {
     "data": {
      "text/html": [
       "<div>\n",
       "<style scoped>\n",
       "    .dataframe tbody tr th:only-of-type {\n",
       "        vertical-align: middle;\n",
       "    }\n",
       "\n",
       "    .dataframe tbody tr th {\n",
       "        vertical-align: top;\n",
       "    }\n",
       "\n",
       "    .dataframe thead th {\n",
       "        text-align: right;\n",
       "    }\n",
       "</style>\n",
       "<table border=\"1\" class=\"dataframe\">\n",
       "  <thead>\n",
       "    <tr style=\"text-align: right;\">\n",
       "      <th></th>\n",
       "      <th>crawler-pod-6785cb55f9-bmqzj</th>\n",
       "      <th>crawler-pod-6785cb55f9-z9x6v</th>\n",
       "      <th>domain-balancer-pod</th>\n",
       "      <th>indexer-pod-7bdb4b5f86-bpr2x</th>\n",
       "      <th>indexer-pod-7bdb4b5f86-f9k8d</th>\n",
       "      <th>indexer-pod-7bdb4b5f86-h8rj4</th>\n",
       "      <th>indexer-pod-7bdb4b5f86-nnpwg</th>\n",
       "      <th>urlmap-pod</th>\n",
       "    </tr>\n",
       "    <tr>\n",
       "      <th>time_stamp_sec</th>\n",
       "      <th></th>\n",
       "      <th></th>\n",
       "      <th></th>\n",
       "      <th></th>\n",
       "      <th></th>\n",
       "      <th></th>\n",
       "      <th></th>\n",
       "      <th></th>\n",
       "    </tr>\n",
       "  </thead>\n",
       "  <tbody>\n",
       "    <tr>\n",
       "      <th>0.0</th>\n",
       "      <td>NaN</td>\n",
       "      <td>NaN</td>\n",
       "      <td>NaN</td>\n",
       "      <td>NaN</td>\n",
       "      <td>NaN</td>\n",
       "      <td>NaN</td>\n",
       "      <td>NaN</td>\n",
       "      <td>NaN</td>\n",
       "    </tr>\n",
       "    <tr>\n",
       "      <th>45.0</th>\n",
       "      <td>NaN</td>\n",
       "      <td>NaN</td>\n",
       "      <td>NaN</td>\n",
       "      <td>NaN</td>\n",
       "      <td>NaN</td>\n",
       "      <td>NaN</td>\n",
       "      <td>NaN</td>\n",
       "      <td>NaN</td>\n",
       "    </tr>\n",
       "    <tr>\n",
       "      <th>90.0</th>\n",
       "      <td>NaN</td>\n",
       "      <td>NaN</td>\n",
       "      <td>NaN</td>\n",
       "      <td>NaN</td>\n",
       "      <td>NaN</td>\n",
       "      <td>NaN</td>\n",
       "      <td>NaN</td>\n",
       "      <td>NaN</td>\n",
       "    </tr>\n",
       "  </tbody>\n",
       "</table>\n",
       "</div>"
      ],
      "text/plain": [
       "                crawler-pod-6785cb55f9-bmqzj  crawler-pod-6785cb55f9-z9x6v  \\\n",
       "time_stamp_sec                                                               \n",
       "0.0                                      NaN                           NaN   \n",
       "45.0                                     NaN                           NaN   \n",
       "90.0                                     NaN                           NaN   \n",
       "\n",
       "                domain-balancer-pod  indexer-pod-7bdb4b5f86-bpr2x  \\\n",
       "time_stamp_sec                                                      \n",
       "0.0                             NaN                           NaN   \n",
       "45.0                            NaN                           NaN   \n",
       "90.0                            NaN                           NaN   \n",
       "\n",
       "                indexer-pod-7bdb4b5f86-f9k8d  indexer-pod-7bdb4b5f86-h8rj4  \\\n",
       "time_stamp_sec                                                               \n",
       "0.0                                      NaN                           NaN   \n",
       "45.0                                     NaN                           NaN   \n",
       "90.0                                     NaN                           NaN   \n",
       "\n",
       "                indexer-pod-7bdb4b5f86-nnpwg  urlmap-pod  \n",
       "time_stamp_sec                                            \n",
       "0.0                                      NaN         NaN  \n",
       "45.0                                     NaN         NaN  \n",
       "90.0                                     NaN         NaN  "
      ]
     },
     "execution_count": 207,
     "metadata": {},
     "output_type": "execute_result"
    }
   ],
   "source": [
    "# 1. Change Time to datetime\n",
    "network_by_pod['time_stamp'] = pd.to_datetime(network_by_pod['Time'])\n",
    "# 2. Substract the first time and make it into relative time\n",
    "network_by_pod['time_stamp'] = network_by_pod['time_stamp'].sub(network_by_pod['time_stamp'][0], axis=0)\n",
    "# 3. Add another column for time in seconds\n",
    "network_by_pod['time_stamp_sec'] = pd.Series(np.random.randn(len(network_by_pod['Time'])), index = network_by_pod.index)\n",
    "# 4. Change the relative time into seconds\n",
    "network_by_pod['time_stamp_sec'] = network_by_pod['time_stamp'].dt.total_seconds()\n",
    "# 5. Drop unnecessary columns\n",
    "network_by_pod_plt = network_by_pod.drop(columns=['Time', 'time_stamp'])\n",
    "# 6. Reset the index to time_stamp_sec\n",
    "network_by_pod_plt.set_index('time_stamp_sec', inplace = True)\n",
    "\n",
    "network_by_pod_plt.head(3)"
   ]
  },
  {
   "cell_type": "code",
   "execution_count": 208,
   "metadata": {},
   "outputs": [
    {
     "data": {
      "image/png": "[encoded data removed]",
      "text/plain": [
       "<Figure size 1296x432 with 1 Axes>"
      ]
     },
     "metadata": {
      "needs_background": "light"
     },
     "output_type": "display_data"
    }
   ],
   "source": [
    "network_by_pod_plt.plot(figsize=(18,6), title = 'Network by pod', fontsize=18, lw=3)\n",
    "plt.show()"
   ]
  },
  {
   "cell_type": "markdown",
   "metadata": {},
   "source": [
    "# indexed_docs"
   ]
  },
  {
   "cell_type": "code",
   "execution_count": 210,
   "metadata": {},
   "outputs": [
    {
     "data": {
      "text/html": [
       "<div>\n",
       "<style scoped>\n",
       "    .dataframe tbody tr th:only-of-type {\n",
       "        vertical-align: middle;\n",
       "    }\n",
       "\n",
       "    .dataframe tbody tr th {\n",
       "        vertical-align: top;\n",
       "    }\n",
       "\n",
       "    .dataframe thead th {\n",
       "        text-align: right;\n",
       "    }\n",
       "</style>\n",
       "<table border=\"1\" class=\"dataframe\">\n",
       "  <thead>\n",
       "    <tr style=\"text-align: right;\">\n",
       "      <th></th>\n",
       "      <th>Time</th>\n",
       "      <th>Indexed files</th>\n",
       "      <th>Number of indexer pods</th>\n",
       "    </tr>\n",
       "  </thead>\n",
       "  <tbody>\n",
       "    <tr>\n",
       "      <th>0</th>\n",
       "      <td>2019-12-08T21:07:30-05:00</td>\n",
       "      <td>NaN</td>\n",
       "      <td>NaN</td>\n",
       "    </tr>\n",
       "    <tr>\n",
       "      <th>1</th>\n",
       "      <td>2019-12-08T21:08:45-05:00</td>\n",
       "      <td>NaN</td>\n",
       "      <td>NaN</td>\n",
       "    </tr>\n",
       "    <tr>\n",
       "      <th>2</th>\n",
       "      <td>2019-12-08T21:10:00-05:00</td>\n",
       "      <td>NaN</td>\n",
       "      <td>NaN</td>\n",
       "    </tr>\n",
       "  </tbody>\n",
       "</table>\n",
       "</div>"
      ],
      "text/plain": [
       "                        Time  Indexed files  Number of indexer pods\n",
       "0  2019-12-08T21:07:30-05:00            NaN                     NaN\n",
       "1  2019-12-08T21:08:45-05:00            NaN                     NaN\n",
       "2  2019-12-08T21:10:00-05:00            NaN                     NaN"
      ]
     },
     "execution_count": 210,
     "metadata": {},
     "output_type": "execute_result"
    }
   ],
   "source": [
    "indexed_docs = pd.read_csv(\"./sample_charts/indexed_docs.csv\", sep=';')\n",
    "indexed_docs.head(3)"
   ]
  },
  {
   "cell_type": "code",
   "execution_count": 211,
   "metadata": {},
   "outputs": [
    {
     "data": {
      "text/html": [
       "<div>\n",
       "<style scoped>\n",
       "    .dataframe tbody tr th:only-of-type {\n",
       "        vertical-align: middle;\n",
       "    }\n",
       "\n",
       "    .dataframe tbody tr th {\n",
       "        vertical-align: top;\n",
       "    }\n",
       "\n",
       "    .dataframe thead th {\n",
       "        text-align: right;\n",
       "    }\n",
       "</style>\n",
       "<table border=\"1\" class=\"dataframe\">\n",
       "  <thead>\n",
       "    <tr style=\"text-align: right;\">\n",
       "      <th></th>\n",
       "      <th>Indexed files</th>\n",
       "      <th>Number of indexer pods</th>\n",
       "    </tr>\n",
       "    <tr>\n",
       "      <th>time_stamp_sec</th>\n",
       "      <th></th>\n",
       "      <th></th>\n",
       "    </tr>\n",
       "  </thead>\n",
       "  <tbody>\n",
       "    <tr>\n",
       "      <th>0.0</th>\n",
       "      <td>NaN</td>\n",
       "      <td>NaN</td>\n",
       "    </tr>\n",
       "    <tr>\n",
       "      <th>75.0</th>\n",
       "      <td>NaN</td>\n",
       "      <td>NaN</td>\n",
       "    </tr>\n",
       "    <tr>\n",
       "      <th>150.0</th>\n",
       "      <td>NaN</td>\n",
       "      <td>NaN</td>\n",
       "    </tr>\n",
       "  </tbody>\n",
       "</table>\n",
       "</div>"
      ],
      "text/plain": [
       "                Indexed files  Number of indexer pods\n",
       "time_stamp_sec                                       \n",
       "0.0                       NaN                     NaN\n",
       "75.0                      NaN                     NaN\n",
       "150.0                     NaN                     NaN"
      ]
     },
     "execution_count": 211,
     "metadata": {},
     "output_type": "execute_result"
    }
   ],
   "source": [
    "# 1. Change Time to datetime\n",
    "indexed_docs['time_stamp'] = pd.to_datetime(indexed_docs['Time'])\n",
    "# 2. Substract the first time and make it into relative time\n",
    "indexed_docs['time_stamp'] = indexed_docs['time_stamp'].sub(indexed_docs['time_stamp'][0], axis=0)\n",
    "# 3. Add another column for time in seconds\n",
    "indexed_docs['time_stamp_sec'] = pd.Series(np.random.randn(len(indexed_docs['Time'])), index = indexed_docs.index)\n",
    "# 4. Change the relative time into seconds\n",
    "indexed_docs['time_stamp_sec'] = indexed_docs['time_stamp'].dt.total_seconds()\n",
    "# 5. Drop unnecessary columns\n",
    "indexed_docs_plt = indexed_docs.drop(columns=['Time', 'time_stamp'])\n",
    "# 6. Reset the index to time_stamp_sec\n",
    "indexed_docs_plt.set_index('time_stamp_sec', inplace = True)\n",
    "\n",
    "indexed_docs_plt.head(3)"
   ]
  },
  {
   "cell_type": "code",
   "execution_count": 212,
   "metadata": {},
   "outputs": [
    {
     "data": {
      "image/png": "[encoded data removed]",
      "text/plain": [
       "<Figure size 1296x432 with 1 Axes>"
      ]
     },
     "metadata": {
      "needs_background": "light"
     },
     "output_type": "display_data"
    }
   ],
   "source": [
    "indexed_docs_plt.plot(figsize=(18,6), title = 'indexed files', fontsize=18, lw=3)\n",
    "plt.show()"
   ]
  },
  {
   "cell_type": "code",
   "execution_count": null,
   "metadata": {},
   "outputs": [],
   "source": []
  },
  {
   "cell_type": "markdown",
   "metadata": {},
   "source": [
    "## First CSV file: \"grafana_data_export_cpu.csv\""
   ]
  },
  {
   "cell_type": "code",
   "execution_count": 141,
   "metadata": {},
   "outputs": [
    {
     "data": {
      "text/html": [
       "<div>\n",
       "<style scoped>\n",
       "    .dataframe tbody tr th:only-of-type {\n",
       "        vertical-align: middle;\n",
       "    }\n",
       "\n",
       "    .dataframe tbody tr th {\n",
       "        vertical-align: top;\n",
       "    }\n",
       "\n",
       "    .dataframe thead th {\n",
       "        text-align: right;\n",
       "    }\n",
       "</style>\n",
       "<table border=\"1\" class=\"dataframe\">\n",
       "  <thead>\n",
       "    <tr style=\"text-align: right;\">\n",
       "      <th></th>\n",
       "      <th>Series</th>\n",
       "      <th>Time</th>\n",
       "      <th>Value</th>\n",
       "    </tr>\n",
       "  </thead>\n",
       "  <tbody>\n",
       "    <tr>\n",
       "      <th>0</th>\n",
       "      <td>cpu</td>\n",
       "      <td>2019-12-05T18:42:00-05:00</td>\n",
       "      <td>7.500</td>\n",
       "    </tr>\n",
       "    <tr>\n",
       "      <th>1</th>\n",
       "      <td>cpu</td>\n",
       "      <td>2019-12-05T18:42:20-05:00</td>\n",
       "      <td>7.875</td>\n",
       "    </tr>\n",
       "    <tr>\n",
       "      <th>2</th>\n",
       "      <td>cpu</td>\n",
       "      <td>2019-12-05T18:42:40-05:00</td>\n",
       "      <td>7.850</td>\n",
       "    </tr>\n",
       "    <tr>\n",
       "      <th>3</th>\n",
       "      <td>cpu</td>\n",
       "      <td>2019-12-05T18:43:00-05:00</td>\n",
       "      <td>7.500</td>\n",
       "    </tr>\n",
       "    <tr>\n",
       "      <th>4</th>\n",
       "      <td>cpu</td>\n",
       "      <td>2019-12-05T18:43:20-05:00</td>\n",
       "      <td>7.525</td>\n",
       "    </tr>\n",
       "  </tbody>\n",
       "</table>\n",
       "</div>"
      ],
      "text/plain": [
       "  Series                       Time  Value\n",
       "0    cpu  2019-12-05T18:42:00-05:00  7.500\n",
       "1    cpu  2019-12-05T18:42:20-05:00  7.875\n",
       "2    cpu  2019-12-05T18:42:40-05:00  7.850\n",
       "3    cpu  2019-12-05T18:43:00-05:00  7.500\n",
       "4    cpu  2019-12-05T18:43:20-05:00  7.525"
      ]
     },
     "execution_count": 141,
     "metadata": {},
     "output_type": "execute_result"
    }
   ],
   "source": [
    "# Load the CSV\n",
    "pd_raw = pd.read_csv(\"./grafana_data_export_cpu.csv\", sep=';')\n",
    "pd_raw.head(5)"
   ]
  },
  {
   "cell_type": "markdown",
   "metadata": {},
   "source": [
    "## For \"CPU\""
   ]
  },
  {
   "cell_type": "code",
   "execution_count": 142,
   "metadata": {},
   "outputs": [],
   "source": [
    "# Seperate the cpu and the memory\n",
    "# CPU\n",
    "cpu_pd_raw = pd_raw.loc[pd_raw['Series'] == 'cpu']"
   ]
  },
  {
   "cell_type": "code",
   "execution_count": 143,
   "metadata": {},
   "outputs": [
    {
     "data": {
      "text/html": [
       "<div>\n",
       "<style scoped>\n",
       "    .dataframe tbody tr th:only-of-type {\n",
       "        vertical-align: middle;\n",
       "    }\n",
       "\n",
       "    .dataframe tbody tr th {\n",
       "        vertical-align: top;\n",
       "    }\n",
       "\n",
       "    .dataframe thead th {\n",
       "        text-align: right;\n",
       "    }\n",
       "</style>\n",
       "<table border=\"1\" class=\"dataframe\">\n",
       "  <thead>\n",
       "    <tr style=\"text-align: right;\">\n",
       "      <th></th>\n",
       "      <th>index</th>\n",
       "      <th>Series</th>\n",
       "      <th>Time</th>\n",
       "      <th>Value</th>\n",
       "    </tr>\n",
       "  </thead>\n",
       "  <tbody>\n",
       "    <tr>\n",
       "      <th>0</th>\n",
       "      <td>0</td>\n",
       "      <td>cpu</td>\n",
       "      <td>2019-12-05T18:42:00-05:00</td>\n",
       "      <td>7.500</td>\n",
       "    </tr>\n",
       "    <tr>\n",
       "      <th>1</th>\n",
       "      <td>1</td>\n",
       "      <td>cpu</td>\n",
       "      <td>2019-12-05T18:42:20-05:00</td>\n",
       "      <td>7.875</td>\n",
       "    </tr>\n",
       "    <tr>\n",
       "      <th>2</th>\n",
       "      <td>2</td>\n",
       "      <td>cpu</td>\n",
       "      <td>2019-12-05T18:42:40-05:00</td>\n",
       "      <td>7.850</td>\n",
       "    </tr>\n",
       "    <tr>\n",
       "      <th>3</th>\n",
       "      <td>3</td>\n",
       "      <td>cpu</td>\n",
       "      <td>2019-12-05T18:43:00-05:00</td>\n",
       "      <td>7.500</td>\n",
       "    </tr>\n",
       "    <tr>\n",
       "      <th>4</th>\n",
       "      <td>4</td>\n",
       "      <td>cpu</td>\n",
       "      <td>2019-12-05T18:43:20-05:00</td>\n",
       "      <td>7.525</td>\n",
       "    </tr>\n",
       "  </tbody>\n",
       "</table>\n",
       "</div>"
      ],
      "text/plain": [
       "   index Series                       Time  Value\n",
       "0      0    cpu  2019-12-05T18:42:00-05:00  7.500\n",
       "1      1    cpu  2019-12-05T18:42:20-05:00  7.875\n",
       "2      2    cpu  2019-12-05T18:42:40-05:00  7.850\n",
       "3      3    cpu  2019-12-05T18:43:00-05:00  7.500\n",
       "4      4    cpu  2019-12-05T18:43:20-05:00  7.525"
      ]
     },
     "execution_count": 143,
     "metadata": {},
     "output_type": "execute_result"
    }
   ],
   "source": [
    "cpu_pd_raw.reset_index().head(5)"
   ]
  },
  {
   "cell_type": "code",
   "execution_count": 144,
   "metadata": {},
   "outputs": [],
   "source": [
    "# Drop the null and NAN\n",
    "cpu_pd = cpu_pd_raw[np.isfinite(cpu_pd_raw['Value'])]\n",
    "# cpu_pd.set_index('Time', inplace = True)\n",
    "# cpu_pd.drop(columns=['Series']).head(3)"
   ]
  },
  {
   "cell_type": "code",
   "execution_count": 145,
   "metadata": {},
   "outputs": [
    {
     "data": {
      "text/html": [
       "<div>\n",
       "<style scoped>\n",
       "    .dataframe tbody tr th:only-of-type {\n",
       "        vertical-align: middle;\n",
       "    }\n",
       "\n",
       "    .dataframe tbody tr th {\n",
       "        vertical-align: top;\n",
       "    }\n",
       "\n",
       "    .dataframe thead th {\n",
       "        text-align: right;\n",
       "    }\n",
       "</style>\n",
       "<table border=\"1\" class=\"dataframe\">\n",
       "  <thead>\n",
       "    <tr style=\"text-align: right;\">\n",
       "      <th></th>\n",
       "      <th>Series</th>\n",
       "      <th>Time</th>\n",
       "      <th>Value</th>\n",
       "    </tr>\n",
       "  </thead>\n",
       "  <tbody>\n",
       "    <tr>\n",
       "      <th>0</th>\n",
       "      <td>cpu</td>\n",
       "      <td>2019-12-05T18:42:00-05:00</td>\n",
       "      <td>7.500</td>\n",
       "    </tr>\n",
       "    <tr>\n",
       "      <th>1</th>\n",
       "      <td>cpu</td>\n",
       "      <td>2019-12-05T18:42:20-05:00</td>\n",
       "      <td>7.875</td>\n",
       "    </tr>\n",
       "    <tr>\n",
       "      <th>2</th>\n",
       "      <td>cpu</td>\n",
       "      <td>2019-12-05T18:42:40-05:00</td>\n",
       "      <td>7.850</td>\n",
       "    </tr>\n",
       "  </tbody>\n",
       "</table>\n",
       "</div>"
      ],
      "text/plain": [
       "  Series                       Time  Value\n",
       "0    cpu  2019-12-05T18:42:00-05:00  7.500\n",
       "1    cpu  2019-12-05T18:42:20-05:00  7.875\n",
       "2    cpu  2019-12-05T18:42:40-05:00  7.850"
      ]
     },
     "execution_count": 145,
     "metadata": {},
     "output_type": "execute_result"
    }
   ],
   "source": [
    "cpu_pd.head(3)"
   ]
  },
  {
   "cell_type": "code",
   "execution_count": 146,
   "metadata": {},
   "outputs": [
    {
     "data": {
      "text/plain": [
       "'2019-12-05T18:42:00-05:00'"
      ]
     },
     "execution_count": 146,
     "metadata": {},
     "output_type": "execute_result"
    }
   ],
   "source": [
    "cpu_pd[\"Time\"][0]"
   ]
  },
  {
   "cell_type": "code",
   "execution_count": 147,
   "metadata": {},
   "outputs": [],
   "source": [
    "# Change \"Time\" into datetime\n",
    "cpu_pd['time_stamp'] = pd.to_datetime(cpu_pd['Time'])"
   ]
  },
  {
   "cell_type": "code",
   "execution_count": 148,
   "metadata": {},
   "outputs": [
    {
     "data": {
      "text/html": [
       "<div>\n",
       "<style scoped>\n",
       "    .dataframe tbody tr th:only-of-type {\n",
       "        vertical-align: middle;\n",
       "    }\n",
       "\n",
       "    .dataframe tbody tr th {\n",
       "        vertical-align: top;\n",
       "    }\n",
       "\n",
       "    .dataframe thead th {\n",
       "        text-align: right;\n",
       "    }\n",
       "</style>\n",
       "<table border=\"1\" class=\"dataframe\">\n",
       "  <thead>\n",
       "    <tr style=\"text-align: right;\">\n",
       "      <th></th>\n",
       "      <th>Series</th>\n",
       "      <th>Time</th>\n",
       "      <th>Value</th>\n",
       "      <th>time_stamp</th>\n",
       "    </tr>\n",
       "  </thead>\n",
       "  <tbody>\n",
       "    <tr>\n",
       "      <th>0</th>\n",
       "      <td>cpu</td>\n",
       "      <td>2019-12-05T18:42:00-05:00</td>\n",
       "      <td>7.500</td>\n",
       "      <td>2019-12-05 18:42:00-05:00</td>\n",
       "    </tr>\n",
       "    <tr>\n",
       "      <th>1</th>\n",
       "      <td>cpu</td>\n",
       "      <td>2019-12-05T18:42:20-05:00</td>\n",
       "      <td>7.875</td>\n",
       "      <td>2019-12-05 18:42:20-05:00</td>\n",
       "    </tr>\n",
       "    <tr>\n",
       "      <th>2</th>\n",
       "      <td>cpu</td>\n",
       "      <td>2019-12-05T18:42:40-05:00</td>\n",
       "      <td>7.850</td>\n",
       "      <td>2019-12-05 18:42:40-05:00</td>\n",
       "    </tr>\n",
       "  </tbody>\n",
       "</table>\n",
       "</div>"
      ],
      "text/plain": [
       "  Series                       Time  Value                time_stamp\n",
       "0    cpu  2019-12-05T18:42:00-05:00  7.500 2019-12-05 18:42:00-05:00\n",
       "1    cpu  2019-12-05T18:42:20-05:00  7.875 2019-12-05 18:42:20-05:00\n",
       "2    cpu  2019-12-05T18:42:40-05:00  7.850 2019-12-05 18:42:40-05:00"
      ]
     },
     "execution_count": 148,
     "metadata": {},
     "output_type": "execute_result"
    }
   ],
   "source": [
    "cpu_pd.head(3)"
   ]
  },
  {
   "cell_type": "code",
   "execution_count": 149,
   "metadata": {},
   "outputs": [],
   "source": [
    "cp_of_pd = cpu_pd\n",
    "cp_of_pd['time_stamp'] = cp_of_pd['time_stamp'].sub(cp_of_pd['time_stamp'][0], axis=0)"
   ]
  },
  {
   "cell_type": "code",
   "execution_count": 150,
   "metadata": {},
   "outputs": [
    {
     "data": {
      "text/html": [
       "<div>\n",
       "<style scoped>\n",
       "    .dataframe tbody tr th:only-of-type {\n",
       "        vertical-align: middle;\n",
       "    }\n",
       "\n",
       "    .dataframe tbody tr th {\n",
       "        vertical-align: top;\n",
       "    }\n",
       "\n",
       "    .dataframe thead th {\n",
       "        text-align: right;\n",
       "    }\n",
       "</style>\n",
       "<table border=\"1\" class=\"dataframe\">\n",
       "  <thead>\n",
       "    <tr style=\"text-align: right;\">\n",
       "      <th></th>\n",
       "      <th>Series</th>\n",
       "      <th>Time</th>\n",
       "      <th>Value</th>\n",
       "      <th>time_stamp</th>\n",
       "    </tr>\n",
       "  </thead>\n",
       "  <tbody>\n",
       "    <tr>\n",
       "      <th>0</th>\n",
       "      <td>cpu</td>\n",
       "      <td>2019-12-05T18:42:00-05:00</td>\n",
       "      <td>7.500</td>\n",
       "      <td>00:00:00</td>\n",
       "    </tr>\n",
       "    <tr>\n",
       "      <th>1</th>\n",
       "      <td>cpu</td>\n",
       "      <td>2019-12-05T18:42:20-05:00</td>\n",
       "      <td>7.875</td>\n",
       "      <td>00:00:20</td>\n",
       "    </tr>\n",
       "    <tr>\n",
       "      <th>2</th>\n",
       "      <td>cpu</td>\n",
       "      <td>2019-12-05T18:42:40-05:00</td>\n",
       "      <td>7.850</td>\n",
       "      <td>00:00:40</td>\n",
       "    </tr>\n",
       "  </tbody>\n",
       "</table>\n",
       "</div>"
      ],
      "text/plain": [
       "  Series                       Time  Value time_stamp\n",
       "0    cpu  2019-12-05T18:42:00-05:00  7.500   00:00:00\n",
       "1    cpu  2019-12-05T18:42:20-05:00  7.875   00:00:20\n",
       "2    cpu  2019-12-05T18:42:40-05:00  7.850   00:00:40"
      ]
     },
     "execution_count": 150,
     "metadata": {},
     "output_type": "execute_result"
    }
   ],
   "source": [
    "cp_of_pd.head(3)"
   ]
  },
  {
   "cell_type": "code",
   "execution_count": 152,
   "metadata": {},
   "outputs": [],
   "source": [
    "cp_of_pd['time_stamp_sec'] = pd.Series(np.random.randn(len(cp_of_pd['Time'])), index = cp_of_pd.index)"
   ]
  },
  {
   "cell_type": "code",
   "execution_count": 153,
   "metadata": {},
   "outputs": [
    {
     "data": {
      "text/html": [
       "<div>\n",
       "<style scoped>\n",
       "    .dataframe tbody tr th:only-of-type {\n",
       "        vertical-align: middle;\n",
       "    }\n",
       "\n",
       "    .dataframe tbody tr th {\n",
       "        vertical-align: top;\n",
       "    }\n",
       "\n",
       "    .dataframe thead th {\n",
       "        text-align: right;\n",
       "    }\n",
       "</style>\n",
       "<table border=\"1\" class=\"dataframe\">\n",
       "  <thead>\n",
       "    <tr style=\"text-align: right;\">\n",
       "      <th></th>\n",
       "      <th>Series</th>\n",
       "      <th>Time</th>\n",
       "      <th>Value</th>\n",
       "      <th>time_stamp</th>\n",
       "      <th>time_stamp_sec</th>\n",
       "    </tr>\n",
       "  </thead>\n",
       "  <tbody>\n",
       "    <tr>\n",
       "      <th>0</th>\n",
       "      <td>cpu</td>\n",
       "      <td>2019-12-05T18:42:00-05:00</td>\n",
       "      <td>7.500</td>\n",
       "      <td>00:00:00</td>\n",
       "      <td>-0.823578</td>\n",
       "    </tr>\n",
       "    <tr>\n",
       "      <th>1</th>\n",
       "      <td>cpu</td>\n",
       "      <td>2019-12-05T18:42:20-05:00</td>\n",
       "      <td>7.875</td>\n",
       "      <td>00:00:20</td>\n",
       "      <td>-1.345504</td>\n",
       "    </tr>\n",
       "    <tr>\n",
       "      <th>2</th>\n",
       "      <td>cpu</td>\n",
       "      <td>2019-12-05T18:42:40-05:00</td>\n",
       "      <td>7.850</td>\n",
       "      <td>00:00:40</td>\n",
       "      <td>0.294568</td>\n",
       "    </tr>\n",
       "  </tbody>\n",
       "</table>\n",
       "</div>"
      ],
      "text/plain": [
       "  Series                       Time  Value time_stamp  time_stamp_sec\n",
       "0    cpu  2019-12-05T18:42:00-05:00  7.500   00:00:00       -0.823578\n",
       "1    cpu  2019-12-05T18:42:20-05:00  7.875   00:00:20       -1.345504\n",
       "2    cpu  2019-12-05T18:42:40-05:00  7.850   00:00:40        0.294568"
      ]
     },
     "execution_count": 153,
     "metadata": {},
     "output_type": "execute_result"
    }
   ],
   "source": [
    "cp_of_pd.head(3)"
   ]
  },
  {
   "cell_type": "code",
   "execution_count": 155,
   "metadata": {},
   "outputs": [],
   "source": [
    "cp_of_pd['time_stamp_sec'] = cp_of_pd['time_stamp'].dt.total_seconds()"
   ]
  },
  {
   "cell_type": "code",
   "execution_count": 156,
   "metadata": {},
   "outputs": [
    {
     "data": {
      "text/html": [
       "<div>\n",
       "<style scoped>\n",
       "    .dataframe tbody tr th:only-of-type {\n",
       "        vertical-align: middle;\n",
       "    }\n",
       "\n",
       "    .dataframe tbody tr th {\n",
       "        vertical-align: top;\n",
       "    }\n",
       "\n",
       "    .dataframe thead th {\n",
       "        text-align: right;\n",
       "    }\n",
       "</style>\n",
       "<table border=\"1\" class=\"dataframe\">\n",
       "  <thead>\n",
       "    <tr style=\"text-align: right;\">\n",
       "      <th></th>\n",
       "      <th>Series</th>\n",
       "      <th>Time</th>\n",
       "      <th>Value</th>\n",
       "      <th>time_stamp</th>\n",
       "      <th>time_stamp_sec</th>\n",
       "    </tr>\n",
       "  </thead>\n",
       "  <tbody>\n",
       "    <tr>\n",
       "      <th>0</th>\n",
       "      <td>cpu</td>\n",
       "      <td>2019-12-05T18:42:00-05:00</td>\n",
       "      <td>7.500</td>\n",
       "      <td>00:00:00</td>\n",
       "      <td>0.0</td>\n",
       "    </tr>\n",
       "    <tr>\n",
       "      <th>1</th>\n",
       "      <td>cpu</td>\n",
       "      <td>2019-12-05T18:42:20-05:00</td>\n",
       "      <td>7.875</td>\n",
       "      <td>00:00:20</td>\n",
       "      <td>20.0</td>\n",
       "    </tr>\n",
       "    <tr>\n",
       "      <th>2</th>\n",
       "      <td>cpu</td>\n",
       "      <td>2019-12-05T18:42:40-05:00</td>\n",
       "      <td>7.850</td>\n",
       "      <td>00:00:40</td>\n",
       "      <td>40.0</td>\n",
       "    </tr>\n",
       "  </tbody>\n",
       "</table>\n",
       "</div>"
      ],
      "text/plain": [
       "  Series                       Time  Value time_stamp  time_stamp_sec\n",
       "0    cpu  2019-12-05T18:42:00-05:00  7.500   00:00:00             0.0\n",
       "1    cpu  2019-12-05T18:42:20-05:00  7.875   00:00:20            20.0\n",
       "2    cpu  2019-12-05T18:42:40-05:00  7.850   00:00:40            40.0"
      ]
     },
     "execution_count": 156,
     "metadata": {},
     "output_type": "execute_result"
    }
   ],
   "source": [
    "cp_of_pd.head(3)"
   ]
  },
  {
   "cell_type": "code",
   "execution_count": 157,
   "metadata": {},
   "outputs": [],
   "source": [
    "cpu_pd.set_index('time_stamp_sec', inplace = True)\n",
    "# cpu_pd.drop(columns=['Series', ])"
   ]
  },
  {
   "cell_type": "code",
   "execution_count": 158,
   "metadata": {},
   "outputs": [],
   "source": [
    "cpu_pd_plt = cpu_pd.drop(columns=['Series', 'Time', 'time_stamp'])"
   ]
  },
  {
   "cell_type": "code",
   "execution_count": 159,
   "metadata": {},
   "outputs": [
    {
     "data": {
      "text/html": [
       "<div>\n",
       "<style scoped>\n",
       "    .dataframe tbody tr th:only-of-type {\n",
       "        vertical-align: middle;\n",
       "    }\n",
       "\n",
       "    .dataframe tbody tr th {\n",
       "        vertical-align: top;\n",
       "    }\n",
       "\n",
       "    .dataframe thead th {\n",
       "        text-align: right;\n",
       "    }\n",
       "</style>\n",
       "<table border=\"1\" class=\"dataframe\">\n",
       "  <thead>\n",
       "    <tr style=\"text-align: right;\">\n",
       "      <th></th>\n",
       "      <th>Value</th>\n",
       "    </tr>\n",
       "    <tr>\n",
       "      <th>time_stamp_sec</th>\n",
       "      <th></th>\n",
       "    </tr>\n",
       "  </thead>\n",
       "  <tbody>\n",
       "    <tr>\n",
       "      <th>0.0</th>\n",
       "      <td>7.500</td>\n",
       "    </tr>\n",
       "    <tr>\n",
       "      <th>20.0</th>\n",
       "      <td>7.875</td>\n",
       "    </tr>\n",
       "    <tr>\n",
       "      <th>40.0</th>\n",
       "      <td>7.850</td>\n",
       "    </tr>\n",
       "  </tbody>\n",
       "</table>\n",
       "</div>"
      ],
      "text/plain": [
       "                Value\n",
       "time_stamp_sec       \n",
       "0.0             7.500\n",
       "20.0            7.875\n",
       "40.0            7.850"
      ]
     },
     "execution_count": 159,
     "metadata": {},
     "output_type": "execute_result"
    }
   ],
   "source": [
    "cpu_pd_plt.head(3)"
   ]
  },
  {
   "cell_type": "code",
   "execution_count": 160,
   "metadata": {},
   "outputs": [
    {
     "data": {
      "image/png": "[encoded data removed]",
      "text/plain": [
       "<Figure size 1296x432 with 1 Axes>"
      ]
     },
     "metadata": {
      "needs_background": "light"
     },
     "output_type": "display_data"
    }
   ],
   "source": [
    "# Plot\n",
    "cpu_pd_plt.Value.plot(figsize=(18,6), title = 'Meh', fontsize=14)\n",
    "plt.show()"
   ]
  },
  {
   "cell_type": "code",
   "execution_count": null,
   "metadata": {},
   "outputs": [],
   "source": [
    "# "
   ]
  },
  {
   "cell_type": "code",
   "execution_count": null,
   "metadata": {},
   "outputs": [],
   "source": []
  },
  {
   "cell_type": "code",
   "execution_count": null,
   "metadata": {},
   "outputs": [],
   "source": []
  },
  {
   "cell_type": "markdown",
   "metadata": {},
   "source": [
    "## For memory"
   ]
  },
  {
   "cell_type": "code",
   "execution_count": 18,
   "metadata": {},
   "outputs": [],
   "source": [
    "# Memory\n",
    "memory_pd_raw = pd_raw.loc[pd_raw['Series'] == 'memory']"
   ]
  },
  {
   "cell_type": "code",
   "execution_count": 23,
   "metadata": {},
   "outputs": [
    {
     "data": {
      "text/html": [
       "<div>\n",
       "<style scoped>\n",
       "    .dataframe tbody tr th:only-of-type {\n",
       "        vertical-align: middle;\n",
       "    }\n",
       "\n",
       "    .dataframe tbody tr th {\n",
       "        vertical-align: top;\n",
       "    }\n",
       "\n",
       "    .dataframe thead th {\n",
       "        text-align: right;\n",
       "    }\n",
       "</style>\n",
       "<table border=\"1\" class=\"dataframe\">\n",
       "  <thead>\n",
       "    <tr style=\"text-align: right;\">\n",
       "      <th></th>\n",
       "      <th>index</th>\n",
       "      <th>Series</th>\n",
       "      <th>Time</th>\n",
       "      <th>Value</th>\n",
       "    </tr>\n",
       "  </thead>\n",
       "  <tbody>\n",
       "    <tr>\n",
       "      <th>0</th>\n",
       "      <td>360</td>\n",
       "      <td>memory</td>\n",
       "      <td>2019-12-05T18:42:00-05:00</td>\n",
       "      <td>NaN</td>\n",
       "    </tr>\n",
       "    <tr>\n",
       "      <th>1</th>\n",
       "      <td>361</td>\n",
       "      <td>memory</td>\n",
       "      <td>2019-12-05T18:42:20-05:00</td>\n",
       "      <td>NaN</td>\n",
       "    </tr>\n",
       "    <tr>\n",
       "      <th>2</th>\n",
       "      <td>362</td>\n",
       "      <td>memory</td>\n",
       "      <td>2019-12-05T18:42:40-05:00</td>\n",
       "      <td>7.0</td>\n",
       "    </tr>\n",
       "    <tr>\n",
       "      <th>3</th>\n",
       "      <td>363</td>\n",
       "      <td>memory</td>\n",
       "      <td>2019-12-05T18:43:00-05:00</td>\n",
       "      <td>NaN</td>\n",
       "    </tr>\n",
       "    <tr>\n",
       "      <th>4</th>\n",
       "      <td>364</td>\n",
       "      <td>memory</td>\n",
       "      <td>2019-12-05T18:43:20-05:00</td>\n",
       "      <td>NaN</td>\n",
       "    </tr>\n",
       "    <tr>\n",
       "      <th>...</th>\n",
       "      <td>...</td>\n",
       "      <td>...</td>\n",
       "      <td>...</td>\n",
       "      <td>...</td>\n",
       "    </tr>\n",
       "    <tr>\n",
       "      <th>355</th>\n",
       "      <td>715</td>\n",
       "      <td>memory</td>\n",
       "      <td>2019-12-05T20:40:20-05:00</td>\n",
       "      <td>NaN</td>\n",
       "    </tr>\n",
       "    <tr>\n",
       "      <th>356</th>\n",
       "      <td>716</td>\n",
       "      <td>memory</td>\n",
       "      <td>2019-12-05T20:40:40-05:00</td>\n",
       "      <td>NaN</td>\n",
       "    </tr>\n",
       "    <tr>\n",
       "      <th>357</th>\n",
       "      <td>717</td>\n",
       "      <td>memory</td>\n",
       "      <td>2019-12-05T20:41:00-05:00</td>\n",
       "      <td>12.0</td>\n",
       "    </tr>\n",
       "    <tr>\n",
       "      <th>358</th>\n",
       "      <td>718</td>\n",
       "      <td>memory</td>\n",
       "      <td>2019-12-05T20:41:20-05:00</td>\n",
       "      <td>NaN</td>\n",
       "    </tr>\n",
       "    <tr>\n",
       "      <th>359</th>\n",
       "      <td>719</td>\n",
       "      <td>memory</td>\n",
       "      <td>2019-12-05T20:41:40-05:00</td>\n",
       "      <td>NaN</td>\n",
       "    </tr>\n",
       "  </tbody>\n",
       "</table>\n",
       "<p>360 rows × 4 columns</p>\n",
       "</div>"
      ],
      "text/plain": [
       "     index  Series                       Time  Value\n",
       "0      360  memory  2019-12-05T18:42:00-05:00    NaN\n",
       "1      361  memory  2019-12-05T18:42:20-05:00    NaN\n",
       "2      362  memory  2019-12-05T18:42:40-05:00    7.0\n",
       "3      363  memory  2019-12-05T18:43:00-05:00    NaN\n",
       "4      364  memory  2019-12-05T18:43:20-05:00    NaN\n",
       "..     ...     ...                        ...    ...\n",
       "355    715  memory  2019-12-05T20:40:20-05:00    NaN\n",
       "356    716  memory  2019-12-05T20:40:40-05:00    NaN\n",
       "357    717  memory  2019-12-05T20:41:00-05:00   12.0\n",
       "358    718  memory  2019-12-05T20:41:20-05:00    NaN\n",
       "359    719  memory  2019-12-05T20:41:40-05:00    NaN\n",
       "\n",
       "[360 rows x 4 columns]"
      ]
     },
     "execution_count": 23,
     "metadata": {},
     "output_type": "execute_result"
    }
   ],
   "source": [
    "memory_pd_raw.reset_index()"
   ]
  },
  {
   "cell_type": "code",
   "execution_count": 29,
   "metadata": {},
   "outputs": [],
   "source": [
    "# Drop the NAN or null\n",
    "memory_pd = memory_pd_raw[np.isfinite(memory_pd_raw['Value'])]"
   ]
  },
  {
   "cell_type": "code",
   "execution_count": 30,
   "metadata": {},
   "outputs": [
    {
     "data": {
      "text/html": [
       "<div>\n",
       "<style scoped>\n",
       "    .dataframe tbody tr th:only-of-type {\n",
       "        vertical-align: middle;\n",
       "    }\n",
       "\n",
       "    .dataframe tbody tr th {\n",
       "        vertical-align: top;\n",
       "    }\n",
       "\n",
       "    .dataframe thead th {\n",
       "        text-align: right;\n",
       "    }\n",
       "</style>\n",
       "<table border=\"1\" class=\"dataframe\">\n",
       "  <thead>\n",
       "    <tr style=\"text-align: right;\">\n",
       "      <th></th>\n",
       "      <th>Series</th>\n",
       "      <th>Time</th>\n",
       "      <th>Value</th>\n",
       "    </tr>\n",
       "  </thead>\n",
       "  <tbody>\n",
       "    <tr>\n",
       "      <th>362</th>\n",
       "      <td>memory</td>\n",
       "      <td>2019-12-05T18:42:40-05:00</td>\n",
       "      <td>7.0</td>\n",
       "    </tr>\n",
       "    <tr>\n",
       "      <th>365</th>\n",
       "      <td>memory</td>\n",
       "      <td>2019-12-05T18:43:40-05:00</td>\n",
       "      <td>5.0</td>\n",
       "    </tr>\n",
       "    <tr>\n",
       "      <th>368</th>\n",
       "      <td>memory</td>\n",
       "      <td>2019-12-05T18:44:40-05:00</td>\n",
       "      <td>1.0</td>\n",
       "    </tr>\n",
       "    <tr>\n",
       "      <th>371</th>\n",
       "      <td>memory</td>\n",
       "      <td>2019-12-05T18:45:40-05:00</td>\n",
       "      <td>5.0</td>\n",
       "    </tr>\n",
       "    <tr>\n",
       "      <th>374</th>\n",
       "      <td>memory</td>\n",
       "      <td>2019-12-05T18:46:40-05:00</td>\n",
       "      <td>4.0</td>\n",
       "    </tr>\n",
       "    <tr>\n",
       "      <th>...</th>\n",
       "      <td>...</td>\n",
       "      <td>...</td>\n",
       "      <td>...</td>\n",
       "    </tr>\n",
       "    <tr>\n",
       "      <th>705</th>\n",
       "      <td>memory</td>\n",
       "      <td>2019-12-05T20:37:00-05:00</td>\n",
       "      <td>16.0</td>\n",
       "    </tr>\n",
       "    <tr>\n",
       "      <th>708</th>\n",
       "      <td>memory</td>\n",
       "      <td>2019-12-05T20:38:00-05:00</td>\n",
       "      <td>13.0</td>\n",
       "    </tr>\n",
       "    <tr>\n",
       "      <th>711</th>\n",
       "      <td>memory</td>\n",
       "      <td>2019-12-05T20:39:00-05:00</td>\n",
       "      <td>11.0</td>\n",
       "    </tr>\n",
       "    <tr>\n",
       "      <th>714</th>\n",
       "      <td>memory</td>\n",
       "      <td>2019-12-05T20:40:00-05:00</td>\n",
       "      <td>9.0</td>\n",
       "    </tr>\n",
       "    <tr>\n",
       "      <th>717</th>\n",
       "      <td>memory</td>\n",
       "      <td>2019-12-05T20:41:00-05:00</td>\n",
       "      <td>12.0</td>\n",
       "    </tr>\n",
       "  </tbody>\n",
       "</table>\n",
       "<p>119 rows × 3 columns</p>\n",
       "</div>"
      ],
      "text/plain": [
       "     Series                       Time  Value\n",
       "362  memory  2019-12-05T18:42:40-05:00    7.0\n",
       "365  memory  2019-12-05T18:43:40-05:00    5.0\n",
       "368  memory  2019-12-05T18:44:40-05:00    1.0\n",
       "371  memory  2019-12-05T18:45:40-05:00    5.0\n",
       "374  memory  2019-12-05T18:46:40-05:00    4.0\n",
       "..      ...                        ...    ...\n",
       "705  memory  2019-12-05T20:37:00-05:00   16.0\n",
       "708  memory  2019-12-05T20:38:00-05:00   13.0\n",
       "711  memory  2019-12-05T20:39:00-05:00   11.0\n",
       "714  memory  2019-12-05T20:40:00-05:00    9.0\n",
       "717  memory  2019-12-05T20:41:00-05:00   12.0\n",
       "\n",
       "[119 rows x 3 columns]"
      ]
     },
     "execution_count": 30,
     "metadata": {},
     "output_type": "execute_result"
    }
   ],
   "source": [
    "memory_pd"
   ]
  },
  {
   "cell_type": "code",
   "execution_count": null,
   "metadata": {},
   "outputs": [],
   "source": []
  },
  {
   "cell_type": "code",
   "execution_count": null,
   "metadata": {},
   "outputs": [],
   "source": []
  },
  {
   "cell_type": "code",
   "execution_count": null,
   "metadata": {},
   "outputs": [],
   "source": []
  },
  {
   "cell_type": "code",
   "execution_count": null,
   "metadata": {},
   "outputs": [],
   "source": []
  },
  {
   "cell_type": "code",
   "execution_count": null,
   "metadata": {},
   "outputs": [],
   "source": []
  }
 ],
 "metadata": {
  "kernelspec": {
   "display_name": "Python 3",
   "language": "python",
   "name": "python3"
  },
  "language_info": {
   "codemirror_mode": {
    "name": "ipython",
    "version": 3
   },
   "file_extension": ".py",
   "mimetype": "text/x-python",
   "name": "python",
   "nbconvert_exporter": "python",
   "pygments_lexer": "ipython3",
   "version": "3.7.0"
  }
 },
 "nbformat": 4,
 "nbformat_minor": 2
}
