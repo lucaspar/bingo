{
 "cells": [
  {
   "cell_type": "markdown",
   "metadata": {},
   "source": [
    "# Use a free public proxy list for python requests\n",
    "## Ref: https://codelike.pro/create-a-crawler-with-rotating-ip-proxy-in-python/"
   ]
  },
  {
   "cell_type": "markdown",
   "metadata": {},
   "source": [
    "# Useful proxy list websites\n",
    "1. https://www.sslproxies.org/ (100 IPs all Https, tested)\n",
    "2. http://spys.one/en/https-ssl-proxy/ (90 IPs which are https, NOT TESTED YET)\n",
    "3. https://hidemy.name/en/proxy-list/?type=hs#list (Over 2000 https, NOT TESTED YET)\n",
    "4. https://www.proxy-list.download/HTTPS (1500 https, NOT TESTED YET)"
   ]
  },
  {
   "cell_type": "code",
   "execution_count": 2,
   "metadata": {
    "scrolled": true
   },
   "outputs": [],
   "source": [
    "from urllib.request import Request, urlopen\n",
    "from bs4 import BeautifulSoup\n",
    "from fake_useragent import UserAgent\n",
    "import random\n",
    "import threading\n",
    "# import urllib2\n",
    "import time"
   ]
  },
  {
   "cell_type": "markdown",
   "metadata": {},
   "source": [
    "# Generate a random user agent"
   ]
  },
  {
   "cell_type": "code",
   "execution_count": 64,
   "metadata": {},
   "outputs": [],
   "source": [
    "country_list = ['United States', 'United Kingdom', 'Belarus', 'Czech Republic', 'Spain',\n",
    "               'Brazil', 'France', 'Canada', 'Poland', 'Armenia', 'Ukraine', 'France',\n",
    "               'Mexico', 'Georgia', 'Hungary']"
   ]
  },
  {
   "cell_type": "code",
   "execution_count": 65,
   "metadata": {
    "scrolled": true
   },
   "outputs": [],
   "source": [
    "user_agent = UserAgent() \n",
    "proxies_no_filter = [] "
   ]
  },
  {
   "cell_type": "markdown",
   "metadata": {},
   "source": [
    "# Set the URL of the proxy list"
   ]
  },
  {
   "cell_type": "code",
   "execution_count": 66,
   "metadata": {
    "scrolled": true
   },
   "outputs": [],
   "source": [
    "proxy_website = 'https://www.sslproxies.org/'"
   ]
  },
  {
   "cell_type": "markdown",
   "metadata": {},
   "source": [
    "# Retrieve latest proxies"
   ]
  },
  {
   "cell_type": "code",
   "execution_count": 67,
   "metadata": {
    "scrolled": true
   },
   "outputs": [],
   "source": [
    "# Retrieve latest proxies\n",
    "proxies_req = Request(proxy_website)\n",
    "proxies_req.add_header('User-Agent', user_agent.random)\n",
    "proxies_doc = urlopen(proxies_req).read().decode('utf8')\n",
    "\n",
    "soup = BeautifulSoup(proxies_doc, 'html.parser')\n",
    "proxies_table = soup.find(id='proxylisttable')"
   ]
  },
  {
   "cell_type": "code",
   "execution_count": 68,
   "metadata": {
    "scrolled": true
   },
   "outputs": [
    {
     "name": "stdout",
     "output_type": "stream",
     "text": [
      "{'ip': '14.162.145.116', 'port': '46516', 'country': 'Vietnam', 'https': 'yes'}\n"
     ]
    }
   ],
   "source": [
    "for row in proxies_table.tbody.find_all('tr'):\n",
    "#     print(row.find_all('td')[3].string)\n",
    "    proxies_no_filter.append({\n",
    "      'ip':    row.find_all('td')[0].string,\n",
    "      'port':  row.find_all('td')[1].string,\n",
    "      'country': row.find_all('td')[3].string,\n",
    "      'https': row.find_all('td')[6].string})\n",
    "print(proxies_no_filter[0])"
   ]
  },
  {
   "cell_type": "code",
   "execution_count": 69,
   "metadata": {
    "scrolled": true
   },
   "outputs": [],
   "source": [
    "# Filter the proxies with the conditions we need\n",
    "proxies = []\n",
    "\n",
    "for proxy_ip in proxies_no_filter:\n",
    "    if (proxy_ip['country'] in country_list) and (proxy_ip['https'] == 'yes'):\n",
    "        proxies.append(proxy_ip)\n",
    "    \n",
    "    else:\n",
    "        pass"
   ]
  },
  {
   "cell_type": "code",
   "execution_count": 70,
   "metadata": {
    "scrolled": true
   },
   "outputs": [
    {
     "name": "stdout",
     "output_type": "stream",
     "text": [
      "42\n"
     ]
    }
   ],
   "source": [
    "# Count the number of total proxies\n",
    "print(len(proxies))"
   ]
  },
  {
   "cell_type": "code",
   "execution_count": 71,
   "metadata": {
    "scrolled": true
   },
   "outputs": [
    {
     "name": "stdout",
     "output_type": "stream",
     "text": [
      "[{'ip': '14.162.145.116', 'port': '46516', 'country': 'Vietnam', 'https': 'yes'}, {'ip': '37.187.149.234', 'port': '1080', 'country': 'France', 'https': 'yes'}, {'ip': '178.32.80.237', 'port': '8080', 'country': 'France', 'https': 'yes'}, {'ip': '150.129.56.138', 'port': '31111', 'country': 'Indonesia', 'https': 'yes'}, {'ip': '154.73.137.157', 'port': '43333', 'country': 'South Africa', 'https': 'yes'}, {'ip': '179.127.242.39', 'port': '31873', 'country': 'Brazil', 'https': 'yes'}, {'ip': '180.180.175.70', 'port': '59692', 'country': 'Thailand', 'https': 'yes'}, {'ip': '194.228.129.189', 'port': '30600', 'country': 'Czech Republic', 'https': 'yes'}, {'ip': '190.57.143.66', 'port': '50719', 'country': 'Ecuador', 'https': 'yes'}, {'ip': '88.12.42.81', 'port': '47617', 'country': 'Spain', 'https': 'yes'}, {'ip': '194.44.243.186', 'port': '47312', 'country': 'Ukraine', 'https': 'yes'}, {'ip': '152.204.128.46', 'port': '34562', 'country': 'Colombia', 'https': 'yes'}, {'ip': '182.16.162.89', 'port': '32247', 'country': 'Indonesia', 'https': 'yes'}, {'ip': '209.203.130.51', 'port': '8080', 'country': 'United States', 'https': 'yes'}, {'ip': '49.156.152.82', 'port': '52899', 'country': 'India', 'https': 'yes'}, {'ip': '179.127.242.42', 'port': '58392', 'country': 'Brazil', 'https': 'yes'}, {'ip': '151.253.165.70', 'port': '8080', 'country': 'United Arab Emirates', 'https': 'yes'}, {'ip': '211.244.224.130', 'port': '8080', 'country': 'Korea', 'https': 'yes'}, {'ip': '110.232.64.171', 'port': '4777', 'country': 'Indonesia', 'https': 'yes'}, {'ip': '191.96.42.184', 'port': '3129', 'country': 'United States', 'https': 'yes'}, {'ip': '81.23.5.4', 'port': '8080', 'country': 'Russian Federation', 'https': 'yes'}, {'ip': '207.191.15.166', 'port': '38528', 'country': 'United States', 'https': 'yes'}, {'ip': '119.161.98.131', 'port': '3128', 'country': 'India', 'https': 'yes'}, {'ip': '103.53.72.20', 'port': '32984', 'country': 'India', 'https': 'yes'}, {'ip': '190.196.15.43', 'port': '3128', 'country': 'Chile', 'https': 'yes'}, {'ip': '190.147.93.2', 'port': '44712', 'country': 'Colombia', 'https': 'yes'}, {'ip': '193.178.50.49', 'port': '3128', 'country': 'Ukraine', 'https': 'yes'}, {'ip': '188.225.179.98', 'port': '51014', 'country': 'Palestinian Territory', 'https': 'yes'}, {'ip': '194.107.82.170', 'port': '8080', 'country': 'Austria', 'https': 'yes'}, {'ip': '114.5.82.210', 'port': '56971', 'country': 'Indonesia', 'https': 'yes'}, {'ip': '170.82.6.56', 'port': '39510', 'country': 'Brazil', 'https': 'yes'}, {'ip': '203.189.150.223', 'port': '50264', 'country': 'Cambodia', 'https': 'yes'}, {'ip': '170.233.42.98', 'port': '80', 'country': 'Brazil', 'https': 'yes'}, {'ip': '95.182.96.167', 'port': '53281', 'country': 'Russian Federation', 'https': 'yes'}, {'ip': '179.127.242.95', 'port': '54005', 'country': 'Brazil', 'https': 'yes'}, {'ip': '81.163.59.94', 'port': '41258', 'country': 'Russian Federation', 'https': 'yes'}, {'ip': '103.21.161.202', 'port': '35101', 'country': 'India', 'https': 'yes'}, {'ip': '200.38.16.53', 'port': '8080', 'country': 'Mexico', 'https': 'yes'}, {'ip': '136.243.14.198', 'port': '8080', 'country': 'Germany', 'https': 'yes'}, {'ip': '45.250.226.56', 'port': '8080', 'country': 'India', 'https': 'yes'}, {'ip': '167.71.59.12', 'port': '8080', 'country': 'Germany', 'https': 'yes'}, {'ip': '84.245.103.85', 'port': '33446', 'country': 'Slovakia', 'https': 'yes'}, {'ip': '212.28.237.130', 'port': '32529', 'country': 'Lebanon', 'https': 'yes'}, {'ip': '178.128.233.221', 'port': '8080', 'country': 'Canada', 'https': 'yes'}, {'ip': '85.132.71.13', 'port': '8080', 'country': 'Azerbaijan', 'https': 'yes'}, {'ip': '167.71.105.170', 'port': '3128', 'country': 'United States', 'https': 'yes'}, {'ip': '116.71.132.53', 'port': '8080', 'country': 'Pakistan', 'https': 'yes'}, {'ip': '51.158.98.121', 'port': '8811', 'country': 'France', 'https': 'yes'}, {'ip': '187.17.145.237', 'port': '30279', 'country': 'Brazil', 'https': 'yes'}, {'ip': '200.111.182.6', 'port': '443', 'country': 'Chile', 'https': 'yes'}, {'ip': '171.6.193.140', 'port': '3128', 'country': 'Thailand', 'https': 'yes'}, {'ip': '179.61.98.34', 'port': '53281', 'country': 'Chile', 'https': 'yes'}, {'ip': '163.172.180.18', 'port': '8811', 'country': 'France', 'https': 'yes'}, {'ip': '167.71.105.166', 'port': '3128', 'country': 'United States', 'https': 'yes'}, {'ip': '51.79.141.93', 'port': '8080', 'country': 'Canada', 'https': 'yes'}, {'ip': '47.89.37.177', 'port': '3128', 'country': 'Hong Kong', 'https': 'yes'}, {'ip': '191.241.34.210', 'port': '8080', 'country': 'Brazil', 'https': 'yes'}, {'ip': '5.77.254.146', 'port': '56955', 'country': 'Armenia', 'https': 'yes'}, {'ip': '41.33.128.67', 'port': '23500', 'country': 'Egypt', 'https': 'yes'}, {'ip': '167.71.97.177', 'port': '3128', 'country': 'United States', 'https': 'yes'}, {'ip': '90.178.25.224', 'port': '58189', 'country': 'Czech Republic', 'https': 'yes'}, {'ip': '167.71.106.246', 'port': '3128', 'country': 'United States', 'https': 'yes'}, {'ip': '1.245.107.123', 'port': '3128', 'country': 'Korea', 'https': 'yes'}, {'ip': '136.243.47.220', 'port': '3128', 'country': 'Germany', 'https': 'yes'}, {'ip': '139.255.57.33', 'port': '3128', 'country': 'Indonesia', 'https': 'yes'}, {'ip': '118.175.93.38', 'port': '39850', 'country': 'Thailand', 'https': 'yes'}, {'ip': '179.107.86.66', 'port': '8080', 'country': 'Brazil', 'https': 'yes'}, {'ip': '175.110.107.26', 'port': '49145', 'country': 'Pakistan', 'https': 'yes'}, {'ip': '109.62.181.8', 'port': '8080', 'country': 'Russian Federation', 'https': 'yes'}, {'ip': '182.176.176.65', 'port': '8080', 'country': 'Pakistan', 'https': 'yes'}, {'ip': '157.245.209.92', 'port': '8080', 'country': 'United States', 'https': 'yes'}, {'ip': '131.0.234.82', 'port': '8080', 'country': 'Argentina', 'https': 'yes'}, {'ip': '179.222.91.185', 'port': '8080', 'country': 'Brazil', 'https': 'yes'}, {'ip': '180.183.98.64', 'port': '8080', 'country': 'Thailand', 'https': 'yes'}, {'ip': '202.179.7.182', 'port': '35055', 'country': 'Mongolia', 'https': 'yes'}, {'ip': '51.79.141.3', 'port': '8080', 'country': 'Canada', 'https': 'yes'}, {'ip': '104.244.77.254', 'port': '8080', 'country': 'Luxembourg', 'https': 'yes'}, {'ip': '118.171.188.216', 'port': '3128', 'country': 'Taiwan', 'https': 'yes'}, {'ip': '162.251.158.82', 'port': '23500', 'country': 'Puerto Rico', 'https': 'yes'}, {'ip': '150.129.171.158', 'port': '8080', 'country': 'India', 'https': 'yes'}, {'ip': '208.108.120.58', 'port': '8080', 'country': 'United States', 'https': 'yes'}, {'ip': '110.164.73.134', 'port': '8080', 'country': 'Thailand', 'https': 'yes'}, {'ip': '167.71.186.105', 'port': '3128', 'country': 'United States', 'https': 'yes'}, {'ip': '18.228.88.101', 'port': '8080', 'country': 'Brazil', 'https': 'yes'}, {'ip': '51.15.193.253', 'port': '3128', 'country': 'France', 'https': 'yes'}, {'ip': '165.22.106.182', 'port': '8080', 'country': 'Singapore', 'https': 'yes'}, {'ip': '167.71.250.73', 'port': '3128', 'country': 'United States', 'https': 'yes'}, {'ip': '128.199.208.119', 'port': '3128', 'country': 'Singapore', 'https': 'yes'}, {'ip': '171.97.36.66', 'port': '8080', 'country': 'Thailand', 'https': 'yes'}, {'ip': '200.37.7.166', 'port': '3128', 'country': 'Peru', 'https': 'yes'}, {'ip': '186.250.56.135', 'port': '8080', 'country': 'Brazil', 'https': 'yes'}, {'ip': '139.59.185.75', 'port': '3128', 'country': 'United Kingdom', 'https': 'yes'}, {'ip': '59.127.168.43', 'port': '3128', 'country': 'Taiwan', 'https': 'yes'}, {'ip': '70.169.17.22', 'port': '48678', 'country': 'United States', 'https': 'yes'}, {'ip': '201.131.224.21', 'port': '56200', 'country': 'Brazil', 'https': 'yes'}, {'ip': '54.255.130.61', 'port': '8118', 'country': 'Singapore', 'https': 'yes'}, {'ip': '109.245.239.125', 'port': '57066', 'country': 'Serbia', 'https': 'yes'}, {'ip': '114.134.191.194', 'port': '34475', 'country': 'Cambodia', 'https': 'yes'}, {'ip': '185.189.208.177', 'port': '34824', 'country': 'Georgia', 'https': 'yes'}, {'ip': '217.182.120.164', 'port': '1080', 'country': 'France', 'https': 'yes'}]\n"
     ]
    }
   ],
   "source": [
    "print(proxies_no_filter)"
   ]
  },
  {
   "cell_type": "markdown",
   "metadata": {},
   "source": [
    "# Set the URL for testing"
   ]
  },
  {
   "cell_type": "code",
   "execution_count": 71,
   "metadata": {
    "scrolled": true
   },
   "outputs": [],
   "source": [
    "test_url = 'http://icanhazip.com'\n",
    "nb_request = 50\n",
    "step_for_random_proxy = 5"
   ]
  },
  {
   "cell_type": "markdown",
   "metadata": {},
   "source": [
    "# Choose a random proxy"
   ]
  },
  {
   "cell_type": "code",
   "execution_count": 75,
   "metadata": {
    "scrolled": true
   },
   "outputs": [],
   "source": [
    "def random_proxy():\n",
    "    return random.randint(0, len(proxies) - 1)"
   ]
  },
  {
   "cell_type": "markdown",
   "metadata": {},
   "source": [
    "# Make parallel requests"
   ]
  },
  {
   "cell_type": "code",
   "execution_count": 57,
   "metadata": {},
   "outputs": [],
   "source": [
    "from multiprocessing.pool import ThreadPool\n",
    "from time import time as timer\n",
    "from urllib.request import urlopen"
   ]
  },
  {
   "cell_type": "markdown",
   "metadata": {},
   "source": [
    "## Get number of process and proxies we need"
   ]
  },
  {
   "cell_type": "code",
   "execution_count": 76,
   "metadata": {},
   "outputs": [],
   "source": [
    "proxy_list = []\n",
    "nb_thread = 2\n",
    "\n",
    "for i in range(nb_thread):\n",
    "    proxy_index = random_proxy()\n",
    "    proxy = proxies[proxy_index]\n",
    "    proxy_list.append(proxy)"
   ]
  },
  {
   "cell_type": "code",
   "execution_count": 80,
   "metadata": {},
   "outputs": [
    {
     "name": "stdout",
     "output_type": "stream",
     "text": [
      "[{'ip': '5.77.254.146', 'port': '56955', 'country': 'Armenia', 'https': 'yes'}, {'ip': '194.228.129.189', 'port': '30600', 'country': 'Czech Republic', 'https': 'yes'}]\n"
     ]
    }
   ],
   "source": [
    "print(proxy_list)"
   ]
  },
  {
   "cell_type": "code",
   "execution_count": 77,
   "metadata": {},
   "outputs": [],
   "source": [
    "def test_proxy(proxy):\n",
    "    for n in range(1, nb_request):\n",
    "        req = Request(test_url)\n",
    "        req.set_proxy(proxy['ip'] + ':' + proxy['port'], 'http')\n",
    "\n",
    "        # Every 10 requests, generate a new proxy\n",
    "        if n % step_for_random_proxy == 0:\n",
    "            proxy_index = random_proxy()\n",
    "            proxy = proxies[proxy_index]\n",
    "\n",
    "        # Intercept broken proxies and delete them from the list and notice the user\n",
    "        try:\n",
    "            my_ip = urlopen(req).read().decode('utf8')\n",
    "            print('#' + str(n) + ': ' + my_ip)\n",
    "        except: # If error, delete this proxy and find another one\n",
    "            del proxies[proxy_index]\n",
    "            print('Proxy ' + proxy['ip'] + ':' + proxy['port'] + ' deleted.')\n",
    "            proxy_index = random_proxy()\n",
    "            proxy = proxies[proxy_index]"
   ]
  },
  {
   "cell_type": "code",
   "execution_count": 81,
   "metadata": {},
   "outputs": [
    {
     "data": {
      "text/plain": [
       "<multiprocessing.pool.IMapUnorderedIterator at 0x7fa118b24be0>"
      ]
     },
     "execution_count": 81,
     "metadata": {},
     "output_type": "execute_result"
    }
   ],
   "source": [
    "ThreadPool(2).imap_unordered(test_proxy, proxy_list)"
   ]
  },
  {
   "cell_type": "code",
   "execution_count": 78,
   "metadata": {},
   "outputs": [],
   "source": [
    "results = ThreadPool(2).imap_unordered(test_proxy, proxy_list)"
   ]
  },
  {
   "cell_type": "code",
   "execution_count": 79,
   "metadata": {},
   "outputs": [
    {
     "name": "stdout",
     "output_type": "stream",
     "text": [
      "<multiprocessing.pool.IMapUnorderedIterator object at 0x7fa0c85bc2b0>\n"
     ]
    }
   ],
   "source": [
    "print(results)"
   ]
  },
  {
   "cell_type": "code",
   "execution_count": null,
   "metadata": {
    "scrolled": true
   },
   "outputs": [
    {
     "name": "stdout",
     "output_type": "stream",
     "text": [
      "#1: 46.175.185.239\n",
      "\n",
      "Proxy 46.175.185.239:53236 deleted.\n",
      "#3: 195.230.115.241\n",
      "\n",
      "#4: 195.230.115.241\n",
      "\n",
      "#5: 195.230.115.241\n",
      "\n",
      "Proxy 217.182.120.161:1080 deleted.\n",
      "#7: 125.209.116.146\n",
      "\n",
      "#8: 125.209.116.146\n",
      "\n",
      "Proxy 125.209.116.146:46258 deleted.\n",
      "#10: 114.199.115.46\n",
      "\n",
      "#11: 125.26.109.114\n",
      "\n",
      "#12: 125.26.109.114\n",
      "\n",
      "#13: 125.26.109.114\n",
      "\n",
      "#14: 125.26.109.114\n",
      "\n",
      "#15: 125.26.109.114\n",
      "\n",
      "Proxy 46.201.235.229:3128 deleted.\n"
     ]
    }
   ],
   "source": [
    "proxy_index = random_proxy()\n",
    "proxy = proxies[proxy_index]\n",
    "\n",
    "for n in range(1, nb_request):\n",
    "    req = Request(test_url)\n",
    "    req.set_proxy(proxy['ip'] + ':' + proxy['port'], 'http')\n",
    "\n",
    "    # Every 10 requests, generate a new proxy\n",
    "    if n % step_for_random_proxy == 0:\n",
    "        proxy_index = random_proxy()\n",
    "        proxy = proxies[proxy_index]\n",
    "\n",
    "    # Intercept broken proxies and delete them from the list and notice the user\n",
    "    try:\n",
    "        my_ip = urlopen(req).read().decode('utf8')\n",
    "        print('#' + str(n) + ': ' + my_ip)\n",
    "    except: # If error, delete this proxy and find another one\n",
    "        del proxies[proxy_index]\n",
    "        print('Proxy ' + proxy['ip'] + ':' + proxy['port'] + ' deleted.')\n",
    "        proxy_index = random_proxy()\n",
    "        proxy = proxies[proxy_index]"
   ]
  },
  {
   "cell_type": "code",
   "execution_count": null,
   "metadata": {
    "scrolled": true
   },
   "outputs": [],
   "source": []
  }
 ],
 "metadata": {
  "kernelspec": {
   "display_name": "Python 3",
   "language": "python",
   "name": "python3"
  },
  "language_info": {
   "codemirror_mode": {
    "name": "ipython",
    "version": 3
   },
   "file_extension": ".py",
   "mimetype": "text/x-python",
   "name": "python",
   "nbconvert_exporter": "python",
   "pygments_lexer": "ipython3",
   "version": "3.7.0"
  }
 },
 "nbformat": 4,
 "nbformat_minor": 2
}
