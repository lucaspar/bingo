{
 "cells": [
  {
   "cell_type": "markdown",
   "metadata": {},
   "source": [
    "# Use a free public proxy list for python requests\n",
    "## Ref: https://codelike.pro/create-a-crawler-with-rotating-ip-proxy-in-python/"
   ]
  },
  {
   "cell_type": "markdown",
   "metadata": {},
   "source": [
    "# Useful proxy list websites\n",
    "1. https://www.sslproxies.org/ (100 IPs all Https, tested)\n",
    "2. http://spys.one/en/https-ssl-proxy/ (90 IPs which are https, NOT TESTED YET)\n",
    "3. https://hidemy.name/en/proxy-list/?type=hs#list (Over 2000 https, NOT TESTED YET)\n",
    "4. https://www.proxy-list.download/HTTPS (1500 https, NOT TESTED YET)"
   ]
  },
  {
   "cell_type": "code",
   "execution_count": 63,
   "metadata": {
    "scrolled": true
   },
   "outputs": [],
   "source": [
    "from urllib.request import Request, urlopen\n",
    "from bs4 import BeautifulSoup\n",
    "from fake_useragent import UserAgent\n",
    "import random\n",
    "import threading\n",
    "import urllib2\n",
    "import time"
   ]
  },
  {
   "cell_type": "markdown",
   "metadata": {},
   "source": [
    "# Generate a random user agent"
   ]
  },
  {
   "cell_type": "code",
   "execution_count": 64,
   "metadata": {
    "scrolled": true
   },
   "outputs": [],
   "source": [
    "user_agent = UserAgent() \n",
    "proxies = [] "
   ]
  },
  {
   "cell_type": "markdown",
   "metadata": {},
   "source": [
    "# Set the URL of the proxy list"
   ]
  },
  {
   "cell_type": "code",
   "execution_count": 65,
   "metadata": {
    "scrolled": true
   },
   "outputs": [],
   "source": [
    "proxy_website = 'https://www.sslproxies.org/'"
   ]
  },
  {
   "cell_type": "markdown",
   "metadata": {},
   "source": [
    "# Retrieve latest proxies"
   ]
  },
  {
   "cell_type": "code",
   "execution_count": 66,
   "metadata": {
    "scrolled": true
   },
   "outputs": [],
   "source": [
    "# Retrieve latest proxies\n",
    "proxies_req = Request(proxy_website)\n",
    "proxies_req.add_header('User-Agent', user_agent.random)\n",
    "proxies_doc = urlopen(proxies_req).read().decode('utf8')\n",
    "\n",
    "soup = BeautifulSoup(proxies_doc, 'html.parser')\n",
    "proxies_table = soup.find(id='proxylisttable')"
   ]
  },
  {
   "cell_type": "code",
   "execution_count": 67,
   "metadata": {
    "scrolled": true
   },
   "outputs": [],
   "source": [
    "# Filter for the protocols we need: HTTP and HTTPS\n",
    "# print(proxies_table)"
   ]
  },
  {
   "cell_type": "code",
   "execution_count": 68,
   "metadata": {
    "scrolled": true
   },
   "outputs": [],
   "source": [
    "for row in proxies_table.tbody.find_all('tr'):\n",
    "#     print(len(row))\n",
    "    proxies.append({\n",
    "      'ip':    row.find_all('td')[0].string,\n",
    "      'port':  row.find_all('td')[1].string,\n",
    "      'https': row.find_all('td')[6].string})"
   ]
  },
  {
   "cell_type": "code",
   "execution_count": 69,
   "metadata": {
    "scrolled": true
   },
   "outputs": [
    {
     "name": "stdout",
     "output_type": "stream",
     "text": [
      "[{'ip': '139.60.176.62', 'port': '53281', 'https': 'yes'}, {'ip': '36.91.45.10', 'port': '45705', 'https': 'yes'}, {'ip': '86.125.112.230', 'port': '57373', 'https': 'yes'}, {'ip': '177.37.199.175', 'port': '49608', 'https': 'yes'}, {'ip': '51.254.182.63', 'port': '60941', 'https': 'yes'}, {'ip': '118.174.220.58', 'port': '60547', 'https': 'yes'}, {'ip': '103.71.255.10', 'port': '61352', 'https': 'yes'}, {'ip': '197.159.136.102', 'port': '42708', 'https': 'yes'}, {'ip': '46.175.185.239', 'port': '53236', 'https': 'yes'}, {'ip': '187.33.226.82', 'port': '30102', 'https': 'yes'}, {'ip': '154.117.143.126', 'port': '8080', 'https': 'yes'}, {'ip': '105.247.171.202', 'port': '8080', 'https': 'yes'}, {'ip': '178.168.67.89', 'port': '4645', 'https': 'yes'}, {'ip': '188.35.167.7', 'port': '45619', 'https': 'yes'}, {'ip': '213.171.45.178', 'port': '50752', 'https': 'yes'}, {'ip': '195.206.42.41', 'port': '60364', 'https': 'yes'}, {'ip': '45.165.131.12', 'port': '8080', 'https': 'yes'}, {'ip': '46.175.70.69', 'port': '37017', 'https': 'yes'}, {'ip': '191.100.25.15', 'port': '41524', 'https': 'yes'}, {'ip': '83.167.73.151', 'port': '59871', 'https': 'yes'}, {'ip': '201.151.79.30', 'port': '8080', 'https': 'yes'}, {'ip': '185.19.176.237', 'port': '53281', 'https': 'yes'}, {'ip': '103.26.247.102', 'port': '52091', 'https': 'yes'}, {'ip': '119.76.132.200', 'port': '80', 'https': 'yes'}, {'ip': '187.109.210.153', 'port': '47351', 'https': 'yes'}, {'ip': '217.182.120.161', 'port': '1080', 'https': 'yes'}, {'ip': '95.31.2.231', 'port': '3129', 'https': 'yes'}, {'ip': '110.74.196.232', 'port': '39854', 'https': 'yes'}, {'ip': '88.247.10.31', 'port': '8080', 'https': 'yes'}, {'ip': '181.129.181.250', 'port': '53539', 'https': 'yes'}, {'ip': '114.199.115.46', 'port': '37486', 'https': 'yes'}, {'ip': '88.99.149.188', 'port': '31288', 'https': 'yes'}, {'ip': '176.196.240.34', 'port': '55308', 'https': 'yes'}, {'ip': '1.10.189.126', 'port': '57959', 'https': 'yes'}, {'ip': '186.46.6.233', 'port': '46849', 'https': 'yes'}, {'ip': '23.236.180.234', 'port': '80', 'https': 'yes'}, {'ip': '5.141.244.231', 'port': '34300', 'https': 'yes'}, {'ip': '82.114.241.138', 'port': '8080', 'https': 'yes'}, {'ip': '5.196.132.126', 'port': '3128', 'https': 'yes'}, {'ip': '103.106.119.170', 'port': '50174', 'https': 'yes'}, {'ip': '95.107.53.236', 'port': '57998', 'https': 'yes'}, {'ip': '1.10.189.84', 'port': '35138', 'https': 'yes'}, {'ip': '186.42.173.122', 'port': '42589', 'https': 'yes'}, {'ip': '46.198.141.82', 'port': '31870', 'https': 'yes'}, {'ip': '1.20.99.89', 'port': '32963', 'https': 'yes'}, {'ip': '185.20.115.114', 'port': '57236', 'https': 'yes'}, {'ip': '92.247.142.14', 'port': '53281', 'https': 'yes'}, {'ip': '170.247.152.132', 'port': '49450', 'https': 'yes'}, {'ip': '46.201.235.229', 'port': '3128', 'https': 'yes'}, {'ip': '190.57.169.174', 'port': '57627', 'https': 'yes'}, {'ip': '95.181.45.234', 'port': '55878', 'https': 'yes'}, {'ip': '195.230.115.241', 'port': '8080', 'https': 'yes'}, {'ip': '118.175.226.30', 'port': '52179', 'https': 'yes'}, {'ip': '202.29.20.151', 'port': '43083', 'https': 'yes'}, {'ip': '95.161.188.246', 'port': '33401', 'https': 'yes'}, {'ip': '195.234.87.211', 'port': '53281', 'https': 'yes'}, {'ip': '181.129.50.138', 'port': '48337', 'https': 'yes'}, {'ip': '108.61.186.207', 'port': '8080', 'https': 'yes'}, {'ip': '118.174.234.55', 'port': '35260', 'https': 'yes'}, {'ip': '125.26.109.114', 'port': '61005', 'https': 'yes'}, {'ip': '200.233.134.85', 'port': '43172', 'https': 'yes'}, {'ip': '24.227.248.226', 'port': '32336', 'https': 'yes'}, {'ip': '193.242.151.42', 'port': '80', 'https': 'yes'}, {'ip': '95.31.245.50', 'port': '35144', 'https': 'yes'}, {'ip': '206.189.111.72', 'port': '3128', 'https': 'yes'}, {'ip': '117.6.161.118', 'port': '53281', 'https': 'yes'}, {'ip': '103.85.63.70', 'port': '53281', 'https': 'yes'}, {'ip': '171.25.164.123', 'port': '30585', 'https': 'yes'}, {'ip': '125.209.116.146', 'port': '46258', 'https': 'yes'}, {'ip': '36.89.149.53', 'port': '52953', 'https': 'yes'}, {'ip': '94.141.244.39', 'port': '40018', 'https': 'yes'}, {'ip': '118.173.233.149', 'port': '45160', 'https': 'yes'}, {'ip': '190.122.97.138', 'port': '52622', 'https': 'yes'}, {'ip': '93.81.246.5', 'port': '53281', 'https': 'yes'}, {'ip': '213.141.93.60', 'port': '32125', 'https': 'yes'}, {'ip': '182.253.67.42', 'port': '8080', 'https': 'yes'}, {'ip': '176.235.99.36', 'port': '55354', 'https': 'yes'}, {'ip': '217.150.77.31', 'port': '53281', 'https': 'yes'}, {'ip': '46.241.120.230', 'port': '31961', 'https': 'yes'}, {'ip': '95.134.195.78', 'port': '54762', 'https': 'yes'}, {'ip': '109.232.106.236', 'port': '61885', 'https': 'yes'}, {'ip': '195.138.73.54', 'port': '47104', 'https': 'yes'}, {'ip': '176.215.1.108', 'port': '60339', 'https': 'yes'}, {'ip': '195.234.210.48', 'port': '51545', 'https': 'yes'}, {'ip': '188.187.3.180', 'port': '34260', 'https': 'yes'}, {'ip': '103.76.243.154', 'port': '59938', 'https': 'yes'}, {'ip': '110.232.76.94', 'port': '54180', 'https': 'yes'}, {'ip': '186.233.98.158', 'port': '34095', 'https': 'yes'}, {'ip': '186.46.120.230', 'port': '57497', 'https': 'yes'}, {'ip': '95.51.161.226', 'port': '51979', 'https': 'yes'}, {'ip': '46.130.249.18', 'port': '46282', 'https': 'yes'}, {'ip': '89.185.204.188', 'port': '57914', 'https': 'yes'}, {'ip': '105.212.11.128', 'port': '52705', 'https': 'yes'}, {'ip': '95.68.115.202', 'port': '53281', 'https': 'yes'}, {'ip': '84.201.253.7', 'port': '44518', 'https': 'yes'}, {'ip': '37.187.149.234', 'port': '1080', 'https': 'yes'}, {'ip': '103.9.188.135', 'port': '57668', 'https': 'yes'}, {'ip': '95.79.111.20', 'port': '41265', 'https': 'yes'}, {'ip': '138.97.12.150', 'port': '51431', 'https': 'yes'}, {'ip': '181.236.247.136', 'port': '58310', 'https': 'yes'}]\n"
     ]
    }
   ],
   "source": [
    "print(proxies)"
   ]
  },
  {
   "cell_type": "code",
   "execution_count": 70,
   "metadata": {
    "scrolled": true
   },
   "outputs": [
    {
     "name": "stdout",
     "output_type": "stream",
     "text": [
      "100\n"
     ]
    }
   ],
   "source": [
    "# Count the number of total proxies\n",
    "print(len(proxies))"
   ]
  },
  {
   "cell_type": "markdown",
   "metadata": {},
   "source": [
    "# Set the URL for testing"
   ]
  },
  {
   "cell_type": "code",
   "execution_count": 71,
   "metadata": {
    "scrolled": true
   },
   "outputs": [],
   "source": [
    "test_url = 'http://icanhazip.com'\n",
    "nb_request = 50\n",
    "step_for_random_proxy = 5"
   ]
  },
  {
   "cell_type": "markdown",
   "metadata": {},
   "source": [
    "# Choose a random proxy"
   ]
  },
  {
   "cell_type": "code",
   "execution_count": 72,
   "metadata": {
    "scrolled": true
   },
   "outputs": [],
   "source": [
    "def random_proxy():\n",
    "    return random.randint(0, len(proxies) - 1)"
   ]
  },
  {
   "cell_type": "code",
   "execution_count": null,
   "metadata": {
    "scrolled": true
   },
   "outputs": [
    {
     "name": "stdout",
     "output_type": "stream",
     "text": [
      "#1: 46.175.185.239\n",
      "\n",
      "Proxy 46.175.185.239:53236 deleted.\n",
      "#3: 195.230.115.241\n",
      "\n",
      "#4: 195.230.115.241\n",
      "\n",
      "#5: 195.230.115.241\n",
      "\n",
      "Proxy 217.182.120.161:1080 deleted.\n",
      "#7: 125.209.116.146\n",
      "\n",
      "#8: 125.209.116.146\n",
      "\n",
      "Proxy 125.209.116.146:46258 deleted.\n",
      "#10: 114.199.115.46\n",
      "\n",
      "#11: 125.26.109.114\n",
      "\n",
      "#12: 125.26.109.114\n",
      "\n",
      "#13: 125.26.109.114\n",
      "\n",
      "#14: 125.26.109.114\n",
      "\n",
      "#15: 125.26.109.114\n",
      "\n",
      "Proxy 46.201.235.229:3128 deleted.\n"
     ]
    }
   ],
   "source": [
    "proxy_index = random_proxy()\n",
    "proxy = proxies[proxy_index]\n",
    "\n",
    "for n in range(1, nb_request):\n",
    "    req = Request(test_url)\n",
    "    req.set_proxy(proxy['ip'] + ':' + proxy['port'], 'http')\n",
    "\n",
    "    # Every 10 requests, generate a new proxy\n",
    "    if n % step_for_random_proxy == 0:\n",
    "        proxy_index = random_proxy()\n",
    "        proxy = proxies[proxy_index]\n",
    "\n",
    "    # Intercept broken proxies and delete them from the list and notice the user\n",
    "    try:\n",
    "        my_ip = urlopen(req).read().decode('utf8')\n",
    "        print('#' + str(n) + ': ' + my_ip)\n",
    "    except: # If error, delete this proxy and find another one\n",
    "        del proxies[proxy_index]\n",
    "        print('Proxy ' + proxy['ip'] + ':' + proxy['port'] + ' deleted.')\n",
    "        proxy_index = random_proxy()\n",
    "        proxy = proxies[proxy_index]"
   ]
  },
  {
   "cell_type": "code",
   "execution_count": null,
   "metadata": {
    "scrolled": true
   },
   "outputs": [],
   "source": []
  }
 ],
 "metadata": {
  "kernelspec": {
   "display_name": "Python 3",
   "language": "python",
   "name": "python3"
  },
  "language_info": {
   "codemirror_mode": {
    "name": "ipython",
    "version": 3
   },
   "file_extension": ".py",
   "mimetype": "text/x-python",
   "name": "python",
   "nbconvert_exporter": "python",
   "pygments_lexer": "ipython3",
   "version": "3.7.0"
  }
 },
 "nbformat": 4,
 "nbformat_minor": 2
}
