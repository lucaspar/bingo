{
 "cells": [
  {
   "cell_type": "code",
   "execution_count": 1,
   "metadata": {},
   "outputs": [],
   "source": [
    "import socket\n",
    "import redis"
   ]
  },
  {
   "cell_type": "code",
   "execution_count": 2,
   "metadata": {},
   "outputs": [],
   "source": [
    "nb_crawler = 1\n",
    "nb_urls = 1 # initial\n",
    "receive_size = 1024\n",
    "\n",
    "# Set up the port and hostname\n",
    "PORT = 12345\n",
    "HOSTNAME = '127.0.0.1'"
   ]
  },
  {
   "cell_type": "markdown",
   "metadata": {},
   "source": [
    "# Create a simple domain list and save it into Redis"
   ]
  },
  {
   "cell_type": "code",
   "execution_count": 4,
   "metadata": {},
   "outputs": [],
   "source": [
    "# Create domain list\n",
    "init_domain = {\n",
    "               \"https://www.wikipedia.org\":{\"status\" : \"000\", \"timestamp\":\"000\"},\n",
    "               \"https://www.nd.edu\": {\"status\": \"000\", \"timestamp\": \"000\"},\n",
    "               \"https://www.quora.com\": {\"status\": \"000\", \"timestamp\": \"000\"}\n",
    "               }"
   ]
  },
  {
   "cell_type": "code",
   "execution_count": 15,
   "metadata": {},
   "outputs": [
    {
     "name": "stdout",
     "output_type": "stream",
     "text": [
      "https://www.wikipedia.org {'status': '000', 'timestamp': '000'}\n",
      "https://www.nd.edu {'status': '000', 'timestamp': '000'}\n",
      "https://www.quora.com {'status': '000', 'timestamp': '000'}\n"
     ]
    }
   ],
   "source": [
    "# Save the data into redis\n",
    "for key in init_domain:\n",
    "    value = init_domain.get(key, {})\n",
    "    print(key, init_domain.get(key, {}))\n",
    "    \n",
    "    conn = redis.Redis('localhost')\n",
    "    conn.hmset(key, value)"
   ]
  },
  {
   "cell_type": "code",
   "execution_count": 23,
   "metadata": {},
   "outputs": [
    {
     "data": {
      "text/plain": [
       "b'https://www.nd.edu'"
      ]
     },
     "execution_count": 23,
     "metadata": {},
     "output_type": "execute_result"
    }
   ],
   "source": [
    "# Retrieve data from redis\n",
    "conn.randomkey()"
   ]
  },
  {
   "cell_type": "code",
   "execution_count": 25,
   "metadata": {},
   "outputs": [
    {
     "data": {
      "text/plain": [
       "4"
      ]
     },
     "execution_count": 25,
     "metadata": {},
     "output_type": "execute_result"
    }
   ],
   "source": [
    "len(conn.keys())"
   ]
  },
  {
   "cell_type": "code",
   "execution_count": 28,
   "metadata": {},
   "outputs": [],
   "source": [
    "import json"
   ]
  },
  {
   "cell_type": "code",
   "execution_count": 26,
   "metadata": {},
   "outputs": [],
   "source": [
    "def flatten_dict(dd, separator ='_', prefix =''): \n",
    "    return { prefix + separator + k if prefix else k : v \n",
    "             for kk, vv in dd.items() \n",
    "             for k, v in flatten_dict(vv, separator, kk).items() \n",
    "             } if isinstance(dd, dict) else { prefix : dd } "
   ]
  },
  {
   "cell_type": "code",
   "execution_count": 29,
   "metadata": {},
   "outputs": [],
   "source": [
    "json_path = \"/Users/kiyoshi/Desktop/2019_Fall/OS/project/bingo/balancer/fake_metadata.json\"\n",
    "\n",
    "with open(json_path) as json_file:\n",
    "    data = json.load(json_file)"
   ]
  },
  {
   "cell_type": "code",
   "execution_count": 30,
   "metadata": {},
   "outputs": [
    {
     "data": {
      "text/plain": [
       "{'https://www.iterm2.com/documentation/2.1/documentation-one-page.html_Timestamp': '10092019233600',\n",
       " 'https://www.iterm2.com/documentation/2.1/documentation-one-page.html_status': '404',\n",
       " 'https://redis-py.readthedocs.io/en/latest/_Timestamp': '10092019235100',\n",
       " 'https://redis-py.readthedocs.io/en/latest/_status': '102',\n",
       " 'https://stackoverflow.com/questions/32276493/how-to-store-and-retrieve-a-dictionary-with-redis_Timestamp': '10102019023500',\n",
       " 'https://stackoverflow.com/questions/32276493/how-to-store-and-retrieve-a-dictionary-with-redis_status': '401',\n",
       " 'https://redis.io/commands/hmset_Timestamp': '10092019235500',\n",
       " 'https://redis.io/commands/hmset_status': '104',\n",
       " 'https://docs.python.org/3/library/socket.html#example_Timestamp': '10102019000500',\n",
       " 'https://docs.python.org/3/library/socket.html#example_status': '201',\n",
       " 'http://code.activestate.com/recipes/213239-recvall-corollary-to-socketsendall/_Timestamp': '10102019001000',\n",
       " 'http://code.activestate.com/recipes/213239-recvall-corollary-to-socketsendall/_status': '202',\n",
       " 'https://www3.nd.edu/~cpoellab/teaching/cse60641/grading.html_Timestamp': '10222019141920',\n",
       " 'https://www3.nd.edu/~cpoellab/teaching/cse60641/grading.html_status': '203',\n",
       " 'https://hub.docker.com/_/redis_Timestamp': '10102019034500',\n",
       " 'https://hub.docker.com/_/redis_status': '404'}"
      ]
     },
     "execution_count": 30,
     "metadata": {},
     "output_type": "execute_result"
    }
   ],
   "source": [
    "flatten_dict(data)"
   ]
  },
  {
   "cell_type": "code",
   "execution_count": null,
   "metadata": {},
   "outputs": [],
   "source": []
  }
 ],
 "metadata": {
  "kernelspec": {
   "display_name": "Python 3",
   "language": "python",
   "name": "python3"
  },
  "language_info": {
   "codemirror_mode": {
    "name": "ipython",
    "version": 3
   },
   "file_extension": ".py",
   "mimetype": "text/x-python",
   "name": "python",
   "nbconvert_exporter": "python",
   "pygments_lexer": "ipython3",
   "version": "3.7.0"
  }
 },
 "nbformat": 4,
 "nbformat_minor": 2
}
